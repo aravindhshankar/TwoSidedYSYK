{
 "cells": [
  {
   "cell_type": "code",
   "execution_count": 1,
   "id": "6415ce32-ac9f-40ca-b0e8-8f741c0887d4",
   "metadata": {},
   "outputs": [],
   "source": [
    "import numpy as np\n",
    "from matplotlib import pyplot as plt\n",
    "from SYK_fft import *\n",
    "from ConformalAnalytical import *\n",
    "import testingscripts"
   ]
  },
  {
   "cell_type": "code",
   "execution_count": 2,
   "id": "2b35e33d-5511-4fbb-b201-1f0d00616226",
   "metadata": {},
   "outputs": [
    {
     "data": {
      "text/plain": [
       "True"
      ]
     },
     "execution_count": 2,
     "metadata": {},
     "output_type": "execute_result"
    }
   ],
   "source": [
    "testingscripts.realtimeFFT_validator() # Should return True"
   ]
  },
  {
   "cell_type": "code",
   "execution_count": 3,
   "id": "5add5a47-457f-4775-889d-c4b125dbe750",
   "metadata": {},
   "outputs": [],
   "source": [
    "def rhotosigma(rhoG,rhoD,M,dt,t,g,kappa=1,delta=1e-6):\n",
    "    '''\n",
    "    returns [Sigma,Pi] given rhos\n",
    "    '''\n",
    "    rhoGrev = np.concatenate(([rhoG[-1]], rhoG[1:][::-1]))\n",
    "    rhoFpp = (1/np.pi)*freq2time(rhoG * fermidirac(beta*omega),M,dt)\n",
    "    rhoFpm = (1/np.pi)*freq2time(rhoG * fermidirac(-1.*beta*omega),M,dt)\n",
    "    rhoFmp = (1/np.pi)*freq2time(rhoGrev * fermidirac(beta*(omega)),M,dt)\n",
    "    rhoFmm = (1/np.pi)*freq2time(rhoGrev * fermidirac(-1.*beta*omega),M,dt)\n",
    "    rhoBpp = (1/np.pi)*freq2time(rhoD * boseeinstein(beta*(omega+delta)),M,dt)\n",
    "    rhoBpm = (1/np.pi)*freq2time(rhoD * boseeinstein(-1.*beta*(omega+delta)),M,dt)\n",
    "    \n",
    "    argSigma = (rhoFpm*rhoBpm - rhoFpp*rhoBpp) * np.exp(-np.abs(delta*t)) * np.heaviside(t,1)\n",
    "    Sigma = 1j*(g**2)*kappa * time2freq(argSigma,M,dt)\n",
    "    \n",
    "    argPi = (rhoFpp*rhoFmp - rhoFpm*rhoFmm) * np.exp(-np.abs(delta*t)) * np.heaviside(t,1)\n",
    "    Pi = 2*1j*(g**2) * time2freq(argPi,M,dt)\n",
    "    \n",
    "    return [Sigma, Pi]"
   ]
  },
  {
   "cell_type": "code",
   "execution_count": 4,
   "id": "e759a8d8-a25d-49b3-8bd2-626d0699b4b2",
   "metadata": {},
   "outputs": [
    {
     "name": "stdout",
     "output_type": "stream",
     "text": [
      "omega max =  50.265290709838204 dw =  0.00019174759848570515\n",
      "dt =  0.0625\n"
     ]
    }
   ],
   "source": [
    "g = 0.5\n",
    "mu = 0.\n",
    "#r = 0.001\n",
    "r = 0. \n",
    "\n",
    "beta = 200.\n",
    "\n",
    "M = int(2**18) #number of points in the grid\n",
    "T = 2**14 #upper cut-off fot the time\n",
    "dt = (2*T)/((2*M))\n",
    "t = dt * (np.arange(2*M) - M)\n",
    "\n",
    "dw = np.pi/(M*dt)\n",
    "eta = 1.1011011101111011111 * dw * 0.1\n",
    "\n",
    "omega = dw * (np.arange(2*M) - M) \n",
    "np.testing.assert_almost_equal(dt*dw*M,np.pi,5, \"Error in fundamentals\")\n",
    "err = 1e-1\n",
    "print(\"omega max = \", omega[-1], \"dw = \", dw )\n",
    "print(\"dt = \", dt)\n",
    "\n",
    "#delta = 0.420374134464041\n",
    "np.testing.assert_almost_equal(np.max(np.abs(omega)),np.pi*M/T,5,\"Error in creating omega grid\")"
   ]
  },
  {
   "cell_type": "code",
   "execution_count": null,
   "id": "0970d959-62cf-4e0e-9acb-af30be0af3bb",
   "metadata": {},
   "outputs": [
    {
     "name": "stderr",
     "output_type": "stream",
     "text": [
      "/Users/aravindhswaminathan/Documents/GitHub/TwoSidedYSYK/SYK_fft.py:87: RuntimeWarning: overflow encountered in exp\n",
      "  return (1.0/(1.0 + np.exp(arg)))\n",
      "/Users/aravindhswaminathan/Documents/GitHub/TwoSidedYSYK/SYK_fft.py:102: RuntimeWarning: overflow encountered in exp\n",
      "  return (1.0/(np.exp(arg)-1))\n"
     ]
    },
    {
     "name": "stdout",
     "output_type": "stream",
     "text": [
      "itern =  110  , diff =  8.887945665190763e-05 1.0313523927555432  , x =  1.1920928955078125e-07 0.125\r"
     ]
    }
   ],
   "source": [
    "#GRomega = (-1j)*np.ones(2*M)\n",
    "#GRomega = time2freq((-1j)*np.ones(2*M)*np.heaviside(t,1.0),M,dt)\n",
    "#GRomega = time2freq(GRconf(t+1j*delta,J = Jot,beta = beta),M,dt)\n",
    "GRomega = 1/(omega + 1j*eta + mu)\n",
    "DRomega = 1/(-1.0*(omega+1j*eta)**2 + r)\n",
    "#DRomega = -1.0*np.ones(2*M)\n",
    "#DRomega = time2freq(-1.0*np.ones(2*M)*np.heaviside(t,1.0),M,dt)\n",
    "\n",
    "\n",
    "itern = 0\n",
    "\n",
    "omegar2 = ret_omegar2(g,beta)\n",
    "\n",
    "diff = 1 \n",
    "diffG,diffD = (0.5,0.5)\n",
    "xG,xD = (0.5,0.5)\n",
    "\n",
    "while (diff>err and itern<200): \n",
    "    itern += 1 \n",
    "    diffoldG,diffoldD = (diffG,diffD)\n",
    "    GRoldomega,DRoldomega = (1.0*GRomega, 1.0*DRomega)\n",
    "    \n",
    "    rhoG = -1.0*np.imag(GRomega)\n",
    "    rhoD = -1.0*np.imag(DRomega)\n",
    "    \n",
    "    SigmaOmega,PiOmega = rhotosigma(rhoG,rhoD,M,dt,t,g,kappa=1,delta=eta)\n",
    "    PiOmega[M] = 1.0*r - omegar2\n",
    "    \n",
    "    # if itern < 20 : \n",
    "    #     PiOmega[M] = 1.0*r - omegar2\n",
    "   \n",
    "    GRomega = 1.0*xG/(omega + 1j*eta + mu - SigmaOmega) + (1-xG)*GRoldomega\n",
    "    DRomega = 1.0*xD/(-1.0*(omega+1j*eta)**2 + r - PiOmega) + (1-xD)*DRoldomega\n",
    "    \n",
    "    GRt = (0.5/np.pi) * freq2time(GRomega,M,dt)\n",
    "    DRt = (0.5/np.pi) * freq2time(DRomega,M,dt)\n",
    "    GRt = GRt - np.real(GRt)\n",
    "    DRt = DRt - np.imag(DRt)\n",
    "    GRt[:M] = 0\n",
    "    DRt[:M] = 0\n",
    "    #minval = np.min(DRt[:M])\n",
    "    #DRt[:M] = DRt[:M] + np.min(DRt[:M]) #Arbitrary choice to make it positive\n",
    "    GRomega = time2freq(GRt,M,dt)\n",
    "    DRomega = time2freq(DRt,M,dt)\n",
    "    \n",
    "\n",
    "   \n",
    "    #diffG = np. sqrt((0.5/M) * np.sum((np.abs(GRomega-GRoldomega))**2)) #changed\n",
    "    #diffD = np. sqrt((0.5/M) * np.sum((np.abs(DRomega-DRoldomega))**2))\n",
    "    diffG = np. sqrt(np.sum((np.abs(GRomega-GRoldomega))**2)) #changed\n",
    "    diffD = np. sqrt(np.sum((np.abs(DRomega-DRoldomega))**2))\n",
    "    diff = np.max([diffG,diffD])\n",
    "    \n",
    "    if diffG>diffoldG:\n",
    "        xG/=2.\n",
    "    if diffD>diffoldD:\n",
    "        xD/=2.\n",
    "    print(\"itern = \",itern, \" , diff = \", diffG, diffD, \" , x = \", xG, xD, end = '\\r')\n",
    "        \n",
    "\n"
   ]
  },
  {
   "cell_type": "code",
   "execution_count": null,
   "id": "925a2ff5-80ff-4b66-90a7-2d0d1e6c599f",
   "metadata": {},
   "outputs": [],
   "source": [
    "GRt = (0.5/np.pi) * freq2time(GRomega,M,dt)\n",
    "DRt = (0.5/np.pi) * freq2time(DRomega,M,dt)"
   ]
  },
  {
   "cell_type": "code",
   "execution_count": null,
   "id": "e3f25f98-76d5-4c9f-bb5b-27e2cb5fb217",
   "metadata": {},
   "outputs": [],
   "source": [
    "fig, ax = plt.subplots(2)\n",
    "\n",
    "ax[0].plot(2*np.pi*t/beta, np.real(GRt), label = r'numerics Re(GR(t))')\n",
    "ax[0].plot(2*np.pi*t/beta, np.imag(GRt), label = r'numerics Im(GR(t))')\n",
    "#ax[0].plot(tau/beta, np.real(Gconftau), 'b--', label = 'analytical Gtau' )\n",
    "#ax[0].set_ylim(-1,1)\n",
    "ax[0].set_xlim(-0.1,0.1)\n",
    "ax[0].set_xlabel(r'$2\\pi t/\\beta$',labelpad = 0)\n",
    "ax[0].set_ylabel(r'${G^R(t)}$')\n",
    "ax[0].legend()\n",
    "\n",
    "ax[1].plot(2*np.pi*t/beta, np.real(DRt),'-',label = 'numerics Re(DR(t))')\n",
    "ax[1].plot(2*np.pi*t/beta, np.imag(DRt), label = 'numerics Im(DR(t))')\n",
    "#ax[1].plot(tau/beta, np.real(Dconftau), 'b--', label = 'analytical Dtau' )\n",
    "#ax[1].plot(tau/beta, np.real(FreeDtau), 'g-.', label = 'Free D Dtau' )\n",
    "#ax[1].set_ylim(0,1)\n",
    "ax[1].set_xlabel(r'$2\\pi t/\\beta$',labelpad = 0)\n",
    "ax[1].set_ylabel(r'${D^R(t)}$')\n",
    "#ax[1].set_xlim(0,beta/(2*np.pi))\n",
    "ax[1].set_xlim(-0.5,1)\n",
    "ax[1].legend()\n"
   ]
  },
  {
   "cell_type": "code",
   "execution_count": null,
   "id": "203ac4ca-fb25-431f-9e17-8c94f5e64f56",
   "metadata": {},
   "outputs": [],
   "source": [
    "fig, ax = plt.subplots(2)\n",
    "titlestring = r'$\\beta$ = ' + str(beta) + r', $\\log_2{M}$ = ' + str(np.log2(M)) + r', $g = $' + str(g)\n",
    "fig.suptitle(titlestring)\n",
    "\n",
    "ax[0].plot(omega, rhoG, 'r', label = r'numerics $\\rho_G(\\omega)$')\n",
    "#ax[0].plot(tau/beta, np.real(Gconftau), 'b--', label = 'analytical Gtau' )\n",
    "#ax[0].set_ylim(-1,1)\n",
    "ax[0].set_xlim(-0.1,0.1)\n",
    "ax[0].set_xlabel(r'$\\omega$',labelpad = 0)\n",
    "ax[0].set_ylabel(r'$-\\Im{G^R(\\omega)}$')\n",
    "ax[0].legend()\n",
    "\n",
    "ax[1].plot(omega, rhoD, 'r', label = r'numerics $\\rho_D(\\omega)$')\n",
    "#ax[1].plot(tau/beta, np.real(Dconftau), 'b--', label = 'analytical Dtau' )\n",
    "#ax[1].plot(tau/beta, np.real(FreeDtau), 'g-.', label = 'Free D Dtau' )\n",
    "#ax[1].set_ylim(0,1)\n",
    "#ax[1].plot(omega,rhoD*boseeinstein(beta*omega), label = 'density of states')\n",
    "ax[1].set_xlabel(r'$\\omega$',labelpad = 0)\n",
    "ax[1].set_ylabel(r'$-\\Im{D^R(\\omega)}$')\n",
    "ax[1].set_xlim(-1,1)\n",
    "ax[1].legend()\n",
    "ax[1].plot(omega, np.zeros_like(omega),ls = '--', c = 'gray')\n",
    "ax[1].axvline([0], ls = '--', c = 'gray')\n",
    "\n",
    "print(DRomega[-1])"
   ]
  },
  {
   "cell_type": "code",
   "execution_count": null,
   "id": "fe1eb669-323e-4f5d-b6d1-9c4d2eb07549",
   "metadata": {},
   "outputs": [],
   "source": [
    "dw, beta "
   ]
  },
  {
   "cell_type": "code",
   "execution_count": null,
   "id": "ac81d91e-0ee4-4003-adf5-556e8351fa48",
   "metadata": {},
   "outputs": [],
   "source": [
    "# Delta = 0.42\n",
    "# powD = 1. - 4*Delta\n",
    "# plt.loglog(omega[M+1:M+50], np.abs(DRomega[M+1:M+50]),'.') \n",
    "# fudfacD = np.abs(DRomega[M+1])/((omega[M+1])**powD)\n",
    "# plt.loglog(omega[M+1:M+50], fudfacD * (omega[M+1:M+50])**powD)\n",
    "delta = 0.420374134464041\n",
    "start,stop = M+1, M+100\n",
    "\n",
    "fitG_val = -np.imag(GRomega[start])\n",
    "conf_fit_G = 1 * np.abs(omega+1j*eta)**(2*delta - 1)\n",
    "conf_fit_G = conf_fit_G/conf_fit_G[start] * fitG_val\n",
    "#alt_conf_fit_G = fitG_val * np.abs(omega/(g**2))**(2*alt_delta - 1)\n",
    "\n",
    "fitD_val = -np.imag(DRomega[start])\n",
    "conf_fit_D = 1 * np.abs(omega[start:stop]+1j*eta)**(1-4*delta)\n",
    "conf_fit_D = conf_fit_D/conf_fit_D[0] * fitD_val\n",
    "#alt_conf_fit_D = 1 * np.abs(omega[start:stop])**(1-4*alt_delta)\n",
    "\n",
    "\n",
    "fig,(ax1,ax2) = plt.subplots(1,2)\n",
    "fig.set_figwidth(10)\n",
    "titlestring = r'$\\beta$ = ' + str(beta) + r', $\\log_2{M}$ = ' + str(np.log2(M)) + r', $g = $' + str(g)\n",
    "fig.suptitle(titlestring)\n",
    "fig.tight_layout(pad=2)\n",
    "\n",
    "ax1.loglog(omega[start:stop], -np.imag(GRomega[start:stop]),'p',label = 'numerics')\n",
    "ax1.loglog(omega[start:stop], conf_fit_G[start:stop],'k--',label = 'ES power law')\n",
    "#ax1.loglog(omega[start:], -np.imag(Gconf[start:])*(g**2),'m.',label = 'ES solution')\n",
    "#ax1.loglog(omega[start:], alt_conf_fit_G[start:],'g--', label = 'alt power law')\n",
    "#ax1.set_xlim(omega[start]/2,omega[start+15])\n",
    "#ax1.set_ylim(1e-1,1e1)\n",
    "ax1.set_xlabel(r'$\\omega$')\n",
    "ax1.set_ylabel(r'$-\\,\\Im{G(\\omega)}$')\n",
    "#ax1.set_aspect('equal', adjustable='box')\n",
    "#ax1.axis('square')\n",
    "ax1.legend(loc = 'upper right')\n",
    "\n",
    "\n",
    "ax2.loglog(omega[start:stop], -np.imag(DRomega[start:stop]),'p',label='numerics')\n",
    "ax2.loglog(omega[start:stop], conf_fit_D,'k--',label = 'ES power law')\n",
    "#ax2.loglog(nu[startB:]/(g**2), np.real(Dconf[startB:]),'m.',label = 'ES solution')\n",
    "#ax2.loglog(nu[startB:]/(g**2), alt_conf_fit_D,'g--', label = 'alt power law')\n",
    "#ax2.set_xlim(nu[startB]/2,nu[startB+15])\n",
    "#ax2.set_ylim(5e-1,100)\n",
    "ax2.set_xlabel(r'$\\omega$')\n",
    "ax2.set_ylabel(r'$-\\Im{D(\\omega)}$',labelpad = None)\n",
    "#ax2.set_aspect('equal', adjustable='box')\n",
    "ax2.legend(loc = 'upper right')\n",
    "\n"
   ]
  },
  {
   "cell_type": "markdown",
   "id": "4fe2658b-deaa-4989-b265-a5942eada21f",
   "metadata": {},
   "source": [
    "# See what the free boson real frequency retarded propagator looks like"
   ]
  },
  {
   "cell_type": "code",
   "execution_count": null,
   "id": "2c630dce-ff2c-418a-abe5-c80a6e11da88",
   "metadata": {},
   "outputs": [],
   "source": [
    "fig,ax = plt.subplots(2)\n",
    "\n",
    "omega0 = np.sqrt(r)\n",
    "DR_free_omega = 1./(r - (omega+1j*eta)**2)\n",
    "#DR_free_omega_left = 0.5/omega0 * (1/(omega +1j*eta + omega0 ))\n",
    "#DR_free_omega_right = 0.5/omega0 * (-1/(omega + 1j*eta - omega0))\n",
    "#DR_free_omega = DR_free_omega_left + DR_free_omega_right\n",
    "DR_free_t = (0.5/np.pi)*freq2time(DR_free_omega,M,dt)\n",
    "#DR_free_t_left = (0.5/np.pi)*freq2time(DR_free_omega_left,M,dt)\n",
    "#DR_free_t_right = (0.5/np.pi)*freq2time(DR_free_omega_right,M,dt)\n",
    "#DR_free_t= DR_free_t_left + DR_free_t_right\n",
    "\n",
    "ax[0].plot(omega,np.real(DR_free_omega), label = r'$\\Re{D_0(\\omega)}$')\n",
    "ax[0].plot(omega,np.imag(DR_free_omega), label = r'$\\Im{D_0(\\omega)}$')\n",
    "ax[0].set_xlabel(r'$\\omega$')\n",
    "ax[0].set_ylabel(r'$D_0(\\omega+i\\eta)$')\n",
    "ax[0].set_xlim(-0.1,0.1)\n",
    "ax[0].set_ylim(-1,1)\n",
    "ax[0].legend(loc = 'upper right')\n",
    "\n",
    "ax[1].plot(t,np.real(DR_free_t), label = r'$\\Re D^R_0(t)$')\n",
    "ax[1].plot(t,np.imag(DR_free_t), label = r'$\\Im D^R_0(t)$')\n",
    "ax[1].set_xlabel('t')\n",
    "ax[1].set_ylabel(r'$D_0^R(t)$')\n",
    "ax[1].set_xlim(-1,10)\n",
    "ax[1].legend(loc = 'lower left')\n",
    "\n",
    "''' But wait, shouldn't D_R(t) also be proportional to \\theta(t)????? : suspicious '''"
   ]
  },
  {
   "cell_type": "code",
   "execution_count": null,
   "id": "66e3c1c8-e1a5-4227-8afc-663b5b54d8c2",
   "metadata": {},
   "outputs": [],
   "source": [
    "DRomega[M:M+5], rhoD[M:M+5], GRomega[M:M+5], rhoG[M:M+5]"
   ]
  },
  {
   "cell_type": "code",
   "execution_count": null,
   "id": "18e06718-d227-429f-8e79-22ad137ab03e",
   "metadata": {},
   "outputs": [],
   "source": [
    "plt.loglog(omega[M:M+20:2], (np.abs(DRomega[M:M+20:2])),'p')\n",
    "plt.loglog(omega[M+1:M+21:2], 1.001369*(np.abs(DRomega[M+1:M+21:2])),'p')"
   ]
  },
  {
   "cell_type": "code",
   "execution_count": null,
   "id": "dd662996-9346-4b62-8928-b2885aaae6ca",
   "metadata": {},
   "outputs": [],
   "source": [
    "plt.plot((np.abs(DRomega[M:M+100:2]))/(np.abs(DRomega[M+1:M+101:2])),'p')"
   ]
  },
  {
   "cell_type": "code",
   "execution_count": null,
   "id": "8001a24c-5f5c-4f1a-b903-2b6c260e9dfd",
   "metadata": {},
   "outputs": [],
   "source": [
    "testarr = np.array([0,1,2,3,4,5])\n",
    "print(testarr[:2])\n",
    "testarr[:2] = 0\n",
    "t[:M], t[M]\n",
    "print(\"omega[M] = \", omega[M])\n",
    "GRt[M-1], GRt[M], GRt[M+1]"
   ]
  },
  {
   "cell_type": "code",
   "execution_count": null,
   "id": "c0c69185-5662-4c7b-ae22-06a5f3bad1c7",
   "metadata": {},
   "outputs": [],
   "source": []
  }
 ],
 "metadata": {
  "kernelspec": {
   "display_name": "Python 3 (ipykernel)",
   "language": "python",
   "name": "python3"
  },
  "language_info": {
   "codemirror_mode": {
    "name": "ipython",
    "version": 3
   },
   "file_extension": ".py",
   "mimetype": "text/x-python",
   "name": "python",
   "nbconvert_exporter": "python",
   "pygments_lexer": "ipython3",
   "version": "3.10.9"
  }
 },
 "nbformat": 4,
 "nbformat_minor": 5
}
