{
 "cells": [
  {
   "cell_type": "code",
   "execution_count": 1,
   "id": "6415ce32-ac9f-40ca-b0e8-8f741c0887d4",
   "metadata": {},
   "outputs": [],
   "source": [
    "import numpy as np\n",
    "from matplotlib import pyplot as plt\n",
    "from SYK_fft import *\n",
    "from ConformalAnalytical import *\n",
    "import testingscripts\n",
    "from scipy.signal import find_peaks"
   ]
  },
  {
   "cell_type": "code",
   "execution_count": 2,
   "id": "2b35e33d-5511-4fbb-b201-1f0d00616226",
   "metadata": {},
   "outputs": [
    {
     "data": {
      "text/plain": [
       "True"
      ]
     },
     "execution_count": 2,
     "metadata": {},
     "output_type": "execute_result"
    }
   ],
   "source": [
    "testingscripts.realtimeFFT_validator() # Should return True"
   ]
  },
  {
   "cell_type": "code",
   "execution_count": 3,
   "id": "5add5a47-457f-4775-889d-c4b125dbe750",
   "metadata": {},
   "outputs": [],
   "source": [
    "def rhotosigma(rhoG,rhoD,M,dt,t,g,beta,kappa=1,delta=1e-6):\n",
    "    '''\n",
    "    returns [Sigma,Pi] given rhos\n",
    "    '''\n",
    "    eta = np.pi/(M*dt)*(0.001)\n",
    "    rhoGrev = np.concatenate(([rhoG[-1]], rhoG[1:][::-1]))\n",
    "    rhoFpp = (1/np.pi)*freq2time(rhoG * fermidirac(beta*omega),M,dt)\n",
    "    rhoFpm = (1/np.pi)*freq2time(rhoG * fermidirac(-1.*beta*omega),M,dt)\n",
    "    rhoFmp = (1/np.pi)*freq2time(rhoGrev * fermidirac(beta*(omega)),M,dt)\n",
    "    rhoFmm = (1/np.pi)*freq2time(rhoGrev * fermidirac(-1.*beta*omega),M,dt)\n",
    "    rhoBpp = (1/np.pi)*freq2time(rhoD * boseeinstein(beta*(omega+eta)),M,dt)\n",
    "    rhoBpm = (1/np.pi)*freq2time(rhoD * boseeinstein(-1.*beta*(omega+eta)),M,dt)\n",
    "    \n",
    "    argSigma = (rhoFpm*rhoBpm - rhoFpp*rhoBpp) * np.exp(-np.abs(delta*t)) * np.heaviside(t,1)\n",
    "    #argSigma = (rhoFpm*rhoBpm - rhoFpp*rhoBpp) * np.heaviside(t,1)\n",
    "    Sigma = 1j*(g**2)*kappa * time2freq(argSigma,M,dt)\n",
    "    \n",
    "    argPi = (rhoFpp*rhoFmp - rhoFpm*rhoFmm) * np.exp(-np.abs(delta*t)) * np.heaviside(t,1)\n",
    "    #argPi = (rhoFpp*rhoFmp - rhoFpm*rhoFmm) * np.heaviside(t,1)\n",
    "    Pi = 2*1j*(g**2) * time2freq(argPi,M,dt)\n",
    "    \n",
    "    return [Sigma, Pi]"
   ]
  },
  {
   "cell_type": "code",
   "execution_count": 4,
   "id": "e759a8d8-a25d-49b3-8bd2-626d0699b4b2",
   "metadata": {},
   "outputs": [
    {
     "name": "stdout",
     "output_type": "stream",
     "text": [
      "omega max =  804.2469523285931 dw =  0.0007669903939428206\n",
      "dt =  0.00390625\n",
      "r =  1.0  ,temp/dw =  26.07594587617613\n",
      "Temp =  0.02  Tstar =  0.25\n"
     ]
    }
   ],
   "source": [
    "g = 0.5\n",
    "mu = 0.\n",
    "#r = 0.001\n",
    "#r = 0. \n",
    "#r = 1.\n",
    "r = 1.\n",
    "\n",
    "beta = 50.\n",
    "\n",
    "M = int(2**20) #number of points in the grid\n",
    "T = 2**12 #upper cut-off for the time\n",
    "dt = (2*T)/((2*M))\n",
    "t = dt * (np.arange(2*M) - M)\n",
    "\n",
    "dw = np.pi/(M*dt)\n",
    "#eta = 1.1011011101111011111 * dw * 0.1\n",
    "#eta = dw*2.1\n",
    "#eta = dw*1.000001\n",
    "#eta = dw*0.01\n",
    "#eta = dw*2.\n",
    "eta = dw*11.\n",
    "\n",
    "omega = dw * (np.arange(2*M) - M) \n",
    "np.testing.assert_almost_equal(dt*dw*M,np.pi,5, \"Error in fundamentals\")\n",
    "err = 1e-1\n",
    "print(\"omega max = \", omega[-1], \"dw = \", dw )\n",
    "print(\"dt = \", dt)\n",
    "Tstar = g**2 * np.sqrt(r)\n",
    "\n",
    "delta = 0.420374134464041\n",
    "np.testing.assert_almost_equal(np.max(np.abs(omega)),np.pi*M/T,5,\"Error in creating omega grid\")\n",
    "print('r = ', r, ' ,temp/dw = ', 1./(beta*dw))\n",
    "print('Temp = ', 1/beta, ' Tstar = ', Tstar)"
   ]
  },
  {
   "cell_type": "code",
   "execution_count": 5,
   "id": "0970d959-62cf-4e0e-9acb-af30be0af3bb",
   "metadata": {},
   "outputs": [
    {
     "name": "stdout",
     "output_type": "stream",
     "text": [
      "boo\n",
      "bar\n"
     ]
    },
    {
     "name": "stderr",
     "output_type": "stream",
     "text": [
      "/Users/aravindhswaminathan/Documents/GitHub/TwoSidedYSYK/SYK_fft.py:87: RuntimeWarning: overflow encountered in exp\n",
      "  return (1.0/(1.0 + np.exp(arg)))\n",
      "/Users/aravindhswaminathan/Documents/GitHub/TwoSidedYSYK/SYK_fft.py:102: RuntimeWarning: overflow encountered in exp\n",
      "  return (1.0/(np.exp(arg)-1))\n"
     ]
    },
    {
     "name": "stdout",
     "output_type": "stream",
     "text": [
      "itern =  52  , diff =  0.08031453503272412 0.08031453503272412  , x =  0.015625 0.015625\r"
     ]
    }
   ],
   "source": [
    "#GRomega = (-1j)*np.ones(2*M)\n",
    "#GRomega = time2freq((-1j)*np.ones(2*M)*np.heaviside(t,1.0),M,dt)\n",
    "#GRomega = time2freq(GRconf(t+1j*delta,J = Jot,beta = beta),M,dt)\n",
    "# GRomega = 1/(omega + 1j*eta + mu)\n",
    "# DRomega = 1/(-1.0*(omega + 1j*eta)**2 + r)\n",
    "#DRomega = -1.0*np.ones(2*M)\n",
    "#DRomega = time2freq(-1.0*np.ones(2*M)*np.heaviside(t,1.0),M,dt)\n",
    "# DRomega = DconfImag(-1j*(omega),g,beta)\n",
    "# GRomega = GconfImag(-1j*(omega+1j*eta),g,beta)\n",
    "DRomega = CrazyDconfReal(omega,g,beta,eta)\n",
    "GRomega = CrazyGconfReal(omega,g,beta,eta)\n",
    "\n",
    "# GRt = (0.5/np.pi) * freq2time(GRomega - GfreeRealomega(omega,mu,eta),M,dt) + GfreeRealt(t,mu,eta)\n",
    "# DRt = (0.5/np.pi) * freq2time(DRomega - DfreeRealomega(omega,r,eta),M,dt) + DfreeRealt(t,r,eta)\n",
    "# GRt[:M] = 0\n",
    "# DRt[:M] = 0\n",
    "# GRomega = time2freq(GRt,M,dt)\n",
    "# DRomega = time2freq(DRt,M,dt)\n",
    "\n",
    "\n",
    "\n",
    "itern = 0\n",
    "\n",
    "omegar2 = ret_omegar2(g,beta)\n",
    "\n",
    "diff = 1 \n",
    "diffG,diffD = (0.5,0.5)\n",
    "xG,xD = (0.5,0.5)\n",
    "\n",
    "\n",
    "while (diff>err and itern<150): \n",
    "    itern += 1 \n",
    "    diffoldG,diffoldD = (diffG,diffD)\n",
    "    GRoldomega,DRoldomega = (1.0*GRomega, 1.0*DRomega)\n",
    "    \n",
    "    rhoG = -1.0*np.imag(GRomega)\n",
    "    rhoD = -1.0*np.imag(DRomega)\n",
    "    \n",
    "    SigmaOmega,PiOmega = rhotosigma(rhoG,rhoD,M,dt,t,g,beta,kappa=1,delta=eta)\n",
    "    #PiOmega[M] = 1.0*r - omegar2 + eta**2\n",
    "    PiOmega[M] = -1.0*r - omegar2 - eta**2\n",
    "    \n",
    "    # if itern < 20 : \n",
    "    #     PiOmega[M] = 1.0*r - omegar2 + eta**2\n",
    "   \n",
    "    GRomega = 1.0*xG/(omega + 1j*eta + mu - SigmaOmega) + (1-xG)*GRoldomega\n",
    "    #DRomega = 1.0*xD/(-1.0*(omega+1j*eta)**2 + r - PiOmega) + (1-xD)*DRoldomega\n",
    "    DRomega = 1.0*xD/(1.0*(omega+1j*eta)**2 - r - PiOmega) + (1-xD)*DRoldomega\n",
    "    \n",
    "#     GRt = (0.5/np.pi) * freq2time(GRomega,M,dt)\n",
    "#     DRt = (0.5/np.pi) * freq2time(DRomega,M,dt)\n",
    "#     #GRt = GRt - np.real(GRt) # make G(t) purely imaginary \n",
    "#     #DRt = DRt - np.imag(DRt) # make D(t) purely real\n",
    "#     #GRt[:M] = 0\n",
    "#     #DRt[:M] = 0\n",
    "#     GRt[M] = -1j\n",
    "#     DRt[M] = 0\n",
    "    \n",
    "#     if itern > 10 :\n",
    "#         #GRt = GRt - np.real(GRt) # make G(t) purely imaginary \n",
    "#         #DRt = DRt - np.imag(DRt) # make D(t) purely real\n",
    "#         #GRt[:M] = 0\n",
    "#         #DRt[:M] = 0\n",
    "#         #GRt[M] = -1j\n",
    "#         #DRt[M] = 0\n",
    "#         eta=dw*0.01\n",
    "    \n",
    "    \n",
    "#     GRomega = time2freq(GRt,M,dt)\n",
    "#     DRomega = time2freq(DRt,M,dt)\n",
    "    \n",
    "\n",
    "   \n",
    "    #diffG = np. sqrt((0.5/M) * np.sum((np.abs(GRomega-GRoldomega))**2)) #changed\n",
    "    #diffD = np. sqrt((0.5/M) * np.sum((np.abs(DRomega-DRoldomega))**2))\n",
    "    diffG = np. sqrt(np.sum((np.abs(GRomega-GRoldomega))**2)) #changed\n",
    "    diffD = np. sqrt(np.sum((np.abs(DRomega-DRoldomega))**2))\n",
    "    #diff = np.max([diffG,diffD])\n",
    "    diff = 0.5*(diffG+diffD)\n",
    "    diffG,diffD = diff,diff\n",
    "    \n",
    "    if diffG>diffoldG:\n",
    "        xG/=2.\n",
    "    if diffD>diffoldD:\n",
    "        xD/=2.\n",
    "    \n",
    "    \n",
    "    print(\"itern = \",itern, \" , diff = \", diffG, diffD, \" , x = \", xG, xD, end = '\\r')\n",
    "        \n",
    "\n"
   ]
  },
  {
   "cell_type": "code",
   "execution_count": 6,
   "id": "925a2ff5-80ff-4b66-90a7-2d0d1e6c599f",
   "metadata": {},
   "outputs": [],
   "source": [
    "#GRt = (0.5/np.pi) * freq2time(GRomega,M,dt)\n",
    "#DRt = (0.5/np.pi) * freq2time(DRomega,M,dt)\n",
    "\n",
    "GRt = (0.5/np.pi) * freq2time(GRomega - GfreeRealomega(omega,mu,eta),M,dt) + GfreeRealt(t,mu,eta)\n",
    "DRt = (0.5/np.pi) * freq2time(DRomega - DfreeRealomega(omega,r,eta),M,dt) + DfreeRealt(t,r,eta)"
   ]
  },
  {
   "cell_type": "code",
   "execution_count": 7,
   "id": "e3f25f98-76d5-4c9f-bb5b-27e2cb5fb217",
   "metadata": {},
   "outputs": [
    {
     "data": {
      "text/plain": [
       "<matplotlib.legend.Legend at 0x7f7f936ca860>"
      ]
     },
     "execution_count": 7,
     "metadata": {},
     "output_type": "execute_result"
    },
    {
     "data": {
      "image/png": "[encoded data removed]",
      "text/plain": [
       "<Figure size 640x480 with 2 Axes>"
      ]
     },
     "metadata": {},
     "output_type": "display_data"
    }
   ],
   "source": [
    "fig, ax = plt.subplots(2)\n",
    "\n",
    "ax[0].plot(2*np.pi*t/beta, np.real(GRt), label = r'numerics Re(GR(t))')\n",
    "ax[0].plot(2*np.pi*t/beta, np.imag(GRt), label = r'numerics Im(GR(t))')\n",
    "#ax[0].plot(tau/beta, np.real(Gconftau), 'b--', label = 'analytical Gtau' )\n",
    "#ax[0].set_ylim(-1,1)\n",
    "ax[0].set_xlim(-1,10)\n",
    "ax[0].set_xlabel(r'$2\\pi t/\\beta$',labelpad = 0)\n",
    "ax[0].set_ylabel(r'${G^R(t)}$')\n",
    "ax[0].legend()\n",
    "\n",
    "ax[1].plot(2*np.pi*t/beta, np.real(DRt),'-',label = 'numerics Re(DR(t))')\n",
    "ax[1].plot(2*np.pi*t/beta, np.imag(DRt), label = 'numerics Im(DR(t))')\n",
    "#ax[1].plot(tau/beta, np.real(Dconftau), 'b--', label = 'analytical Dtau' )\n",
    "#ax[1].plot(tau/beta, np.real(FreeDtau), 'g-.', label = 'Free D Dtau' )\n",
    "#ax[1].set_ylim(0,1)\n",
    "ax[1].set_xlabel(r'$2\\pi t/\\beta$',labelpad = 0)\n",
    "ax[1].set_ylabel(r'${D^R(t)}$')\n",
    "#ax[1].set_xlim(0,beta/(2*np.pi))\n",
    "ax[1].set_xlim(-10,10)\n",
    "ax[1].legend()\n",
    "# "
   ]
  },
  {
   "cell_type": "code",
   "execution_count": null,
   "id": "203ac4ca-fb25-431f-9e17-8c94f5e64f56",
   "metadata": {},
   "outputs": [
    {
     "name": "stdout",
     "output_type": "stream",
     "text": [
      "foo barr\n"
     ]
    },
    {
     "name": "stderr",
     "output_type": "stream",
     "text": [
      "/Users/aravindhswaminathan/anaconda3/lib/python3.10/site-packages/IPython/core/pylabtools.py:152: UserWarning: Creating legend with loc=\"best\" can be slow with large amounts of data.\n",
      "  fig.canvas.print_figure(bytes_io, **kw)\n"
     ]
    }
   ],
   "source": [
    "%matplotlib inline\n",
    "\n",
    "fig, ax = plt.subplots(2)\n",
    "titlestring = r'$\\beta$ = ' + str(beta) + r', $\\log_2{M}$ = ' + str(np.log2(M)) + r', $g = $' + str(g)\n",
    "fig.suptitle(titlestring)\n",
    "thermalfreeboson = DfreeThermalomega(omega,r,beta,g,eta=eta)\n",
    "\n",
    "\n",
    "\n",
    "match_omega = 0.5\n",
    "match_point = M + int(np.floor(match_omega/dw))\n",
    "om_th = np.sqrt(omegar2)\n",
    "#om_th = 1/beta\n",
    "#match_coeff = rhoD[match_point]*(np.abs(omega[match_point])**(4*delta-1))\n",
    "#match_rhoD = match_coeff * np.abs(omega)**(1-4*delta)\n",
    "match_coeff = rhoD[match_point]*(np.abs(omega[match_point] - om_th + 1j*eta )**(4*delta-1))\n",
    "match_rhoD = match_coeff * np.abs(omega-om_th)**(1-4*delta)\n",
    "\n",
    "\n",
    "#peakrhoD = find_peaks(rhoD)\n",
    "#print(omega[peakrhoD[-1]])\n",
    "\n",
    "ax[0].plot(omega, rhoG, 'r', label = r'numerics $\\rho_G(\\omega)$')\n",
    "#ax[0].plot(tau/beta, np.real(Gconftau), 'b--', label = 'analytical Gtau' )\n",
    "#ax[0].set_ylim(-1,1)\n",
    "ax[0].set_xlim(-0.1,0.1)\n",
    "ax[0].set_xlabel(r'$\\omega$',labelpad = 0)\n",
    "ax[0].set_ylabel(r'$-\\Im{G^R(\\omega)}$')\n",
    "ax[0].legend()\n",
    "\n",
    "ax[1].plot(omega, rhoD, 'r', label = r'numerics $\\rho_D(\\omega)$')\n",
    "#ax[1].plot(omega,-np.imag(thermalfreeboson),label = 'free boson with thermal mass')\n",
    "ax[1].plot(omega,match_rhoD, c = 'k', ls = '--', label = 'heuristic fit of power law')\n",
    "ax[1].plot(omega, np.imag(DfreeRealomega(omega,r,eta=om_th)), ls = '--', label = 'free boson with bare mass')\n",
    "\n",
    "ax[1].set_ylim(-0.2,0.5)\n",
    "ax[1].set_xlabel(r'$\\omega$',labelpad = 0)\n",
    "ax[1].set_ylabel(r'$-\\Im{D^R(\\omega)}$')\n",
    "ax[1].set_xlim(-0.02,1.5)\n",
    "ax[1].legend()\n",
    "ax[1].plot(omega, np.zeros_like(omega),ls = '--', c = 'gray')\n",
    "ax[1].axvline([0], ls = '--', c = 'gray')\n",
    "ax[1].axvline([1/beta], ls = '--', c = 'gray')\n",
    "ax[1].axvline([eta], ls = '--', c = 'blue')\n",
    "#ax[1].axvline([Tstar], ls = '--', c = 'green')\n",
    "ax[1].axvline(om_th, ls = '--', c = 'orange')\n",
    "#ax[1].axvline([omega[peakrhoD[0][-1]]], ls = '--', c = 'black')\n",
    "ax[1].text(1/beta+0.002,0.6, r'$T$',rotation=90)\n",
    "ax[1].text(eta+0.001,0.4, r'$\\eta$',rotation=90)\n",
    "#ax[1].text(Tstar+0.002,0.4, r'$T^{*}$',rotation=90)\n",
    "\n",
    "#plt.savefig('KoenraadEmails/thermalfreeboson.pdf')\n",
    "plt.show()\n"
   ]
  },
  {
   "cell_type": "code",
   "execution_count": null,
   "id": "fe1eb669-323e-4f5d-b6d1-9c4d2eb07549",
   "metadata": {},
   "outputs": [],
   "source": [
    "dw, 1/beta "
   ]
  },
  {
   "cell_type": "code",
   "execution_count": null,
   "id": "ac81d91e-0ee4-4003-adf5-556e8351fa48",
   "metadata": {},
   "outputs": [],
   "source": [
    "# powD = 1. - 4*Delta\n",
    "delta = 0.420374134464041\n",
    "start,stop = M+1, M+1000\n",
    "\n",
    "\n",
    "#DRomega = CrazyDconfReal(omega,g,beta,eta)\n",
    "#GRomega = CrazyGconfReal(omega,g,beta,eta)\n",
    "\n",
    "fitslice = slice(start, start + 6)\n",
    "functoplot = rhoG\n",
    "m,c = np.polyfit(np.log(omega[fitslice]), np.log(np.abs(functoplot[fitslice])),1)\n",
    "print(f'slope of fit = {m:.03f}')\n",
    "print('2\\Delta - 1 = ', 2*delta-1)\n",
    "\n",
    "\n",
    "fitG_val = -np.imag(GRomega[start])\n",
    "# conf_fit_G = 1 * np.abs(omega+1j*eta)**(2*delta - 1)\n",
    "# conf_fit_G = conf_fit_G/conf_fit_G[start] * fitG_val\n",
    "conf_fit_G = 1 * np.abs(omega+1j*eta)**(2*delta - 1)\n",
    "conf_fit_G = conf_fit_G/conf_fit_G[start] * fitG_val\n",
    "\n",
    "\n",
    "# fitG_val = np.abs(GRomega[start])\n",
    "# conf_fit_G = 1 * np.abs(omega+1j*eta)**(2*delta - 1)\n",
    "# conf_fit_G = conf_fit_G/conf_fit_G[start] * fitG_val\n",
    "\n",
    "# fitD_val = -np.imag(DRomega[start])\n",
    "# conf_fit_D = 1 * np.abs(omega[start:stop]+1j*eta )**(1-4*delta)\n",
    "# conf_fit_D = conf_fit_D/conf_fit_D[0] * fitD_val\n",
    "\n",
    "\n",
    "# fitD_val = np.abs(DRomega[start])\n",
    "# conf_fit_D = 1 * np.abs(omega[start:stop]+1j*eta)**(1-4*delta)\n",
    "# conf_fit_D = conf_fit_D/conf_fit_D[0] * fitD_val\n",
    "\n",
    "fig,(ax1,ax2) = plt.subplots(1,2)\n",
    "fig.set_figwidth(10)\n",
    "titlestring = r'$\\beta$ = ' + str(beta) + r', $\\log_2{M}$ = ' + str(np.log2(M)) + r', $g = $' + str(g)\n",
    "fig.suptitle(titlestring)\n",
    "fig.tight_layout(pad=2)\n",
    "\n",
    "ax1.loglog(np.abs(omega[start:stop]+1j*eta), -np.imag(GRomega[start:stop]),'p',label = 'numerics')\n",
    "#ax1.loglog(np.abs(omega[start:stop]+1j*eta), np.abs(GRomega[start:stop]),'p',label = 'numerics')\n",
    "ax1.loglog(np.abs(omega[start:stop]+1j*eta), conf_fit_G[start:stop],'k--',label = 'ES power law')\n",
    "ax1.loglog(np.abs(omega[start:stop]+1j*eta), np.exp(c)*(omega[start:stop])**m, '--', label = 'power law fit')\n",
    "\n",
    "ax1.set_xlabel(r'$\\omega$')\n",
    "ax1.set_ylabel(r'$-\\,\\Im{G(\\omega)}$')\n",
    "#ax1.set_ylabel(r'$|G(\\omega)|$')\n",
    "#ax1.set_aspect('equal', adjustable='box')\n",
    "#ax1.axis('square')\n",
    "ax1.legend(loc = 'lower left')\n",
    "#ax1.set_xlim(1e-3,1e-1)\n",
    "\n",
    "ax2.loglog(np.abs(omega[start:stop] - om_th), -np.imag(DRomega[start:stop]),'p',label='numerics')\n",
    "#ax2.loglog(np.abs(omega[start:stop]+1j*eta), np.abs(DRomega[start:stop]),'p',label='numerics')\n",
    "#ax2.loglog(np.abs(omega[start:stop]+1j*eta), conf_fit_D,'k--',label = 'ES power law')\n",
    "ax2.loglog(np.abs(omega[start:stop]-om_th), match_rhoD[start:stop],'k--',label = 'ES power law')\n",
    "\n",
    "ax2.set_xlabel(r'$\\omega$')\n",
    "ax2.set_ylabel(r'$-\\Im{D(\\omega)}$',labelpad = None)\n",
    "#ax2.set_ylabel(r'$|D(\\omega)|$',labelpad = None)\n",
    "#ax2.set_aspect('equal', adjustable='box')\n",
    "ax2.legend(loc = 'upper right')\n",
    "ax2.set_xlim(1e-2,1e0)\n",
    "\n",
    "#plt.savefig('KoenraadEmails/show_scaling_real_freq.pdf')"
   ]
  },
  {
   "cell_type": "markdown",
   "id": "4fe2658b-deaa-4989-b265-a5942eada21f",
   "metadata": {
    "tags": []
   },
   "source": [
    "# See what the free boson real frequency retarded propagator looks like"
   ]
  },
  {
   "cell_type": "code",
   "execution_count": null,
   "id": "2c630dce-ff2c-418a-abe5-c80a6e11da88",
   "metadata": {},
   "outputs": [],
   "source": [
    "fig,ax = plt.subplots(2)\n",
    "\n",
    "omega0 = np.sqrt(r)\n",
    "DR_free_omega = 1./(r - (omega+1j*eta)**2)\n",
    "#DR_free_omega_left = 0.5/omega0 * (1/(omega +1j*eta + omega0 ))\n",
    "#DR_free_omega_right = 0.5/omega0 * (-1/(omega + 1j*eta - omega0))\n",
    "#DR_free_omega = DR_free_omega_left + DR_free_omega_right\n",
    "DR_free_t = (0.5/np.pi)*freq2time(DR_free_omega,M,dt)\n",
    "#DR_free_t_left = (0.5/np.pi)*freq2time(DR_free_omega_left,M,dt)\n",
    "#DR_free_t_right = (0.5/np.pi)*freq2time(DR_free_omega_right,M,dt)\n",
    "#DR_free_t= DR_free_t_left + DR_free_t_right\n",
    "\n",
    "ax[0].plot(omega,np.real(DR_free_omega), label = r'$\\Re{D_0(\\omega)}$')\n",
    "ax[0].plot(omega,np.imag(DR_free_omega), label = r'$\\Im{D_0(\\omega)}$')\n",
    "ax[0].set_xlabel(r'$\\omega$')\n",
    "ax[0].set_ylabel(r'$D_0(\\omega+i\\eta)$')\n",
    "ax[0].set_xlim(-0.1,0.1)\n",
    "ax[0].set_ylim(-2,2)\n",
    "ax[0].legend(loc = 'upper right')\n",
    "\n",
    "ax[1].plot(t,np.real(DR_free_t), label = r'$\\Re D^R_0(t)$')\n",
    "ax[1].plot(t,np.imag(DR_free_t), label = r'$\\Im D^R_0(t)$')\n",
    "ax[1].set_xlabel('t')\n",
    "ax[1].set_ylabel(r'$D_0^R(t)$')\n",
    "ax[1].set_xlim(-10,10)\n",
    "ax[1].legend(loc = 'lower left')\n",
    "\n",
    "''' But wait, shouldn't D_R(t) also be proportional to \\theta(t)????? : suspicious '''"
   ]
  },
  {
   "cell_type": "code",
   "execution_count": null,
   "id": "c0c69185-5662-4c7b-ae22-06a5f3bad1c7",
   "metadata": {},
   "outputs": [],
   "source": [
    "fig,ax = plt.subplots(2)\n",
    "\n",
    "GR_free_omega = 1./(omega+1j*eta - mu)\n",
    "GR_free_t = (0.5/np.pi)*freq2time(GR_free_omega,M,dt)\n",
    "\n",
    "#Gforw = GR_free_t[M:]\n",
    "#Grev = GR_free_t[:M]\n",
    "#Grec = np.concatenate((-1.0*Grev,Gforw))\n",
    "\n",
    "ax[0].plot(omega,np.real(GR_free_omega), label = r'$\\Re{G_0(\\omega)}$')\n",
    "ax[0].plot(omega,np.imag(GR_free_omega), label = r'$\\Im{G_0(\\omega)}$')\n",
    "ax[0].set_xlabel(r'$\\omega$')\n",
    "ax[0].set_ylabel(r'$G_0(\\omega+i\\eta)$')\n",
    "ax[0].set_xlim(-0.1,0.1)\n",
    "ax[0].set_ylim(-1,1)\n",
    "ax[0].legend(loc = 'upper right')\n",
    "\n",
    "\n",
    "ax[1].plot(t,np.real(GR_free_t), label = r'$\\Re G^R_0(t)$')\n",
    "ax[1].plot(t,np.imag(GR_free_t), label = r'$\\Im G^R_0(t)$')\n",
    "#ax[1].plot(t,np.real(Grec), label = r'$\\Re Grec(t)$')\n",
    "#ax[1].plot(t,np.imag(Grec), label = r'$\\Im Grec(t)$')\n",
    "ax[1].set_xlabel('t')\n",
    "ax[1].set_ylabel(r'$G_0^R(t)$')\n",
    "ax[1].set_xlim(-5,5)\n",
    "ax[1].legend(loc = 'lower left')"
   ]
  },
  {
   "cell_type": "code",
   "execution_count": null,
   "id": "c65bb040-0c75-4a39-8804-a0e5511e929c",
   "metadata": {},
   "outputs": [],
   "source": [
    "DRomega[M:M+2]"
   ]
  },
  {
   "cell_type": "code",
   "execution_count": null,
   "id": "72240c4d-6b68-4fd7-b211-7568e76d4609",
   "metadata": {},
   "outputs": [],
   "source": [
    " from IPython.core.display import HTML\n",
    "HTML(\"\"\"\n",
    "<style>\n",
    ".output_png {\n",
    "    display: table-cell;\n",
    "    text-align: center;\n",
    "    vertical-align: middle;\n",
    "}\n",
    "</style>\n",
    "\"\"\")"
   ]
  },
  {
   "cell_type": "code",
   "execution_count": null,
   "id": "6f67de7e-fc60-4d0c-9af4-d554f626ed9e",
   "metadata": {},
   "outputs": [],
   "source": []
  },
  {
   "cell_type": "code",
   "execution_count": null,
   "id": "0e098c57-9e49-445e-8f78-f483f607fdd6",
   "metadata": {},
   "outputs": [],
   "source": []
  },
  {
   "cell_type": "code",
   "execution_count": null,
   "id": "f4426653-5b99-47e5-964b-d362fcecda80",
   "metadata": {},
   "outputs": [],
   "source": [
    "plt.plot(omega, np.imag(DfreeRealomega(omega,r)))\n",
    "plt.plot(omega,np.imag(thermalfreeboson))\n",
    "plt.xlim(0,1)\n",
    "plt.ylim(0,1)"
   ]
  },
  {
   "cell_type": "code",
   "execution_count": null,
   "id": "96f4d510-680d-48a6-b8ed-c48950c4c418",
   "metadata": {},
   "outputs": [],
   "source": [
    "1/np.sqrt(beta), np.log(0.6)"
   ]
  },
  {
   "cell_type": "code",
   "execution_count": null,
   "id": "fd435e5b-4e2a-483c-bf40-6f3ea2c69efa",
   "metadata": {},
   "outputs": [],
   "source": []
  }
 ],
 "metadata": {
  "kernelspec": {
   "display_name": "Python 3 (ipykernel)",
   "language": "python",
   "name": "python3"
  },
  "language_info": {
   "codemirror_mode": {
    "name": "ipython",
    "version": 3
   },
   "file_extension": ".py",
   "mimetype": "text/x-python",
   "name": "python",
   "nbconvert_exporter": "python",
   "pygments_lexer": "ipython3",
   "version": "3.10.9"
  }
 },
 "nbformat": 4,
 "nbformat_minor": 5
}
