{
 "cells": [
  {
   "cell_type": "code",
   "execution_count": 1,
   "id": "075733c4-3fd4-4667-9f43-323755f592a6",
   "metadata": {},
   "outputs": [
    {
     "name": "stdout",
     "output_type": "stream",
     "text": [
      "/Users/aravindhswaminathan/Documents/GitHub/TwoSidedYSYK\n"
     ]
    }
   ],
   "source": [
    "%cd /Users/aravindhswaminathan/Documents/GitHub/TwoSidedYSYK\n",
    "#!pwd\n",
    "import numpy as np\n",
    "from matplotlib import pyplot as plt\n",
    "from SYK_fft import *\n",
    "import sys\n",
    "from scipy import optimize"
   ]
  },
  {
   "cell_type": "code",
   "execution_count": 2,
   "id": "154863b4-a4cc-4f09-8e73-d6a24be95dfe",
   "metadata": {},
   "outputs": [],
   "source": [
    "Nbig = int(2**18)\n",
    "err = 1e-5\n",
    "\n",
    "beta = 5000.\n",
    "mu = 0.001\n",
    "J = 1.\n",
    "\n",
    "omega = (2 * np.arange(Nbig) - Nbig + 1) * np.pi/beta\n",
    "nu = (2 * np.arange(Nbig) - Nbig ) * np.pi/beta\n",
    "tau = (np.arange(Nbig) + 1./2) * beta/Nbig"
   ]
  },
  {
   "cell_type": "code",
   "execution_count": 3,
   "id": "9031b400-27da-44aa-98c0-2fdc5aaaca5b",
   "metadata": {},
   "outputs": [
    {
     "ename": "KeyboardInterrupt",
     "evalue": "",
     "output_type": "error",
     "traceback": [
      "\u001b[0;31m---------------------------------------------------------------------------\u001b[0m",
      "\u001b[0;31mKeyboardInterrupt\u001b[0m                         Traceback (most recent call last)",
      "Cell \u001b[0;32mIn[3], line 21\u001b[0m\n\u001b[1;32m     17\u001b[0m     Sigmaomega \u001b[38;5;241m=\u001b[39m Time2FreqF(Sigmatau,Nbig,beta)\n\u001b[1;32m     18\u001b[0m     \u001b[38;5;28;01mreturn\u001b[39;00m(Gomega \u001b[38;5;241m-\u001b[39m \u001b[38;5;241m1.\u001b[39m\u001b[38;5;241m/\u001b[39m(\u001b[38;5;241m1\u001b[39mj\u001b[38;5;241m*\u001b[39momega \u001b[38;5;241m+\u001b[39m mu \u001b[38;5;241m-\u001b[39m Sigmaomega))\n\u001b[0;32m---> 21\u001b[0m sol \u001b[38;5;241m=\u001b[39m \u001b[43moptimize\u001b[49m\u001b[38;5;241;43m.\u001b[39;49m\u001b[43manderson\u001b[49m\u001b[43m(\u001b[49m\u001b[43mfun\u001b[49m\u001b[43m,\u001b[49m\u001b[43m \u001b[49m\u001b[43minit_Gomega\u001b[49m\u001b[43m,\u001b[49m\u001b[43m \u001b[49m\u001b[43mM\u001b[49m\u001b[38;5;241;43m=\u001b[39;49m\u001b[38;5;241;43m5\u001b[39;49m\u001b[43m,\u001b[49m\u001b[43m \u001b[49m\u001b[43mverbose\u001b[49m\u001b[43m \u001b[49m\u001b[38;5;241;43m=\u001b[39;49m\u001b[43m \u001b[49m\u001b[38;5;28;43;01mFalse\u001b[39;49;00m\u001b[43m,\u001b[49m\u001b[43m \u001b[49m\u001b[43mf_tol\u001b[49m\u001b[43m \u001b[49m\u001b[38;5;241;43m=\u001b[39;49m\u001b[43m \u001b[49m\u001b[38;5;241;43m1e-2\u001b[39;49m\u001b[43m,\u001b[49m\u001b[43m \u001b[49m\u001b[43mmaxiter\u001b[49m\u001b[38;5;241;43m=\u001b[39;49m\u001b[38;5;241;43m500\u001b[39;49m\u001b[43m)\u001b[49m\n\u001b[1;32m     22\u001b[0m Gomega \u001b[38;5;241m=\u001b[39m sol \n\u001b[1;32m     23\u001b[0m Gtau \u001b[38;5;241m=\u001b[39m Freq2TimeF(Gomega,Nbig,beta)\n",
      "File \u001b[0;32m<string>:6\u001b[0m, in \u001b[0;36manderson\u001b[0;34m(F, xin, iter, alpha, w0, M, verbose, maxiter, f_tol, f_rtol, x_tol, x_rtol, tol_norm, line_search, callback, **kw)\u001b[0m\n",
      "File \u001b[0;32m~/anaconda3/lib/python3.10/site-packages/scipy/optimize/_nonlin.py:213\u001b[0m, in \u001b[0;36mnonlin_solve\u001b[0;34m(F, x0, jacobian, iter, verbose, maxiter, f_tol, f_rtol, x_tol, x_rtol, tol_norm, line_search, callback, full_output, raise_exception)\u001b[0m\n\u001b[1;32m    211\u001b[0m \u001b[38;5;66;03m# Line search, or Newton step\u001b[39;00m\n\u001b[1;32m    212\u001b[0m \u001b[38;5;28;01mif\u001b[39;00m line_search:\n\u001b[0;32m--> 213\u001b[0m     s, x, Fx, Fx_norm_new \u001b[38;5;241m=\u001b[39m \u001b[43m_nonlin_line_search\u001b[49m\u001b[43m(\u001b[49m\u001b[43mfunc\u001b[49m\u001b[43m,\u001b[49m\u001b[43m \u001b[49m\u001b[43mx\u001b[49m\u001b[43m,\u001b[49m\u001b[43m \u001b[49m\u001b[43mFx\u001b[49m\u001b[43m,\u001b[49m\u001b[43m \u001b[49m\u001b[43mdx\u001b[49m\u001b[43m,\u001b[49m\n\u001b[1;32m    214\u001b[0m \u001b[43m                                                \u001b[49m\u001b[43mline_search\u001b[49m\u001b[43m)\u001b[49m\n\u001b[1;32m    215\u001b[0m \u001b[38;5;28;01melse\u001b[39;00m:\n\u001b[1;32m    216\u001b[0m     s \u001b[38;5;241m=\u001b[39m \u001b[38;5;241m1.0\u001b[39m\n",
      "File \u001b[0;32m~/anaconda3/lib/python3.10/site-packages/scipy/optimize/_nonlin.py:304\u001b[0m, in \u001b[0;36m_nonlin_line_search\u001b[0;34m(func, x, Fx, dx, search_type, rdiff, smin)\u001b[0m\n\u001b[1;32m    302\u001b[0m     Fx \u001b[38;5;241m=\u001b[39m tmp_Fx[\u001b[38;5;241m0\u001b[39m]\n\u001b[1;32m    303\u001b[0m \u001b[38;5;28;01melse\u001b[39;00m:\n\u001b[0;32m--> 304\u001b[0m     Fx \u001b[38;5;241m=\u001b[39m \u001b[43mfunc\u001b[49m\u001b[43m(\u001b[49m\u001b[43mx\u001b[49m\u001b[43m)\u001b[49m\n\u001b[1;32m    305\u001b[0m Fx_norm \u001b[38;5;241m=\u001b[39m norm(Fx)\n\u001b[1;32m    307\u001b[0m \u001b[38;5;28;01mreturn\u001b[39;00m s, x, Fx, Fx_norm\n",
      "File \u001b[0;32m~/anaconda3/lib/python3.10/site-packages/scipy/optimize/_nonlin.py:167\u001b[0m, in \u001b[0;36mnonlin_solve.<locals>.<lambda>\u001b[0;34m(z)\u001b[0m\n\u001b[1;32m    162\u001b[0m condition \u001b[38;5;241m=\u001b[39m TerminationCondition(f_tol\u001b[38;5;241m=\u001b[39mf_tol, f_rtol\u001b[38;5;241m=\u001b[39mf_rtol,\n\u001b[1;32m    163\u001b[0m                                  x_tol\u001b[38;5;241m=\u001b[39mx_tol, x_rtol\u001b[38;5;241m=\u001b[39mx_rtol,\n\u001b[1;32m    164\u001b[0m                                  \u001b[38;5;28miter\u001b[39m\u001b[38;5;241m=\u001b[39m\u001b[38;5;28miter\u001b[39m, norm\u001b[38;5;241m=\u001b[39mtol_norm)\n\u001b[1;32m    166\u001b[0m x0 \u001b[38;5;241m=\u001b[39m _as_inexact(x0)\n\u001b[0;32m--> 167\u001b[0m func \u001b[38;5;241m=\u001b[39m \u001b[38;5;28;01mlambda\u001b[39;00m z: _as_inexact(\u001b[43mF\u001b[49m\u001b[43m(\u001b[49m\u001b[43m_array_like\u001b[49m\u001b[43m(\u001b[49m\u001b[43mz\u001b[49m\u001b[43m,\u001b[49m\u001b[43m \u001b[49m\u001b[43mx0\u001b[49m\u001b[43m)\u001b[49m\u001b[43m)\u001b[49m)\u001b[38;5;241m.\u001b[39mflatten()\n\u001b[1;32m    168\u001b[0m x \u001b[38;5;241m=\u001b[39m x0\u001b[38;5;241m.\u001b[39mflatten()\n\u001b[1;32m    170\u001b[0m dx \u001b[38;5;241m=\u001b[39m np\u001b[38;5;241m.\u001b[39mfull_like(x, np\u001b[38;5;241m.\u001b[39minf)\n",
      "Cell \u001b[0;32mIn[3], line 17\u001b[0m, in \u001b[0;36mfun\u001b[0;34m(Gomega)\u001b[0m\n\u001b[1;32m     15\u001b[0m Gtau \u001b[38;5;241m=\u001b[39m Freq2TimeF(Gomega,Nbig,beta)\n\u001b[1;32m     16\u001b[0m Sigmatau \u001b[38;5;241m=\u001b[39m J\u001b[38;5;241m*\u001b[39m\u001b[38;5;241m*\u001b[39m\u001b[38;5;241m2\u001b[39m \u001b[38;5;241m*\u001b[39m Gtau\u001b[38;5;241m*\u001b[39m\u001b[38;5;241m*\u001b[39m\u001b[38;5;241m2\u001b[39m \u001b[38;5;241m*\u001b[39m Gtau[::\u001b[38;5;241m-\u001b[39m\u001b[38;5;241m1\u001b[39m]\n\u001b[0;32m---> 17\u001b[0m Sigmaomega \u001b[38;5;241m=\u001b[39m \u001b[43mTime2FreqF\u001b[49m\u001b[43m(\u001b[49m\u001b[43mSigmatau\u001b[49m\u001b[43m,\u001b[49m\u001b[43mNbig\u001b[49m\u001b[43m,\u001b[49m\u001b[43mbeta\u001b[49m\u001b[43m)\u001b[49m\n\u001b[1;32m     18\u001b[0m \u001b[38;5;28;01mreturn\u001b[39;00m(Gomega \u001b[38;5;241m-\u001b[39m \u001b[38;5;241m1.\u001b[39m\u001b[38;5;241m/\u001b[39m(\u001b[38;5;241m1\u001b[39mj\u001b[38;5;241m*\u001b[39momega \u001b[38;5;241m+\u001b[39m mu \u001b[38;5;241m-\u001b[39m Sigmaomega))\n",
      "File \u001b[0;32m~/Documents/GitHub/TwoSidedYSYK/SYK_fft.py:29\u001b[0m, in \u001b[0;36mTime2FreqF\u001b[0;34m(gg, Nbig, beta)\u001b[0m\n\u001b[1;32m     20\u001b[0m \u001b[38;5;124;03m''' Fast fourier transform (from imaginary time to fermionic frequency) \u001b[39;00m\n\u001b[1;32m     21\u001b[0m \u001b[38;5;124;03m    Input: \u001b[39;00m\n\u001b[1;32m     22\u001b[0m \u001b[38;5;124;03m          gg - array of Greens functions depending on the imaginary time\u001b[39;00m\n\u001b[0;32m   (...)\u001b[0m\n\u001b[1;32m     26\u001b[0m \u001b[38;5;124;03m           array of Greens functions depending on the frequency   \u001b[39;00m\n\u001b[1;32m     27\u001b[0m \u001b[38;5;124;03m'''\u001b[39;00m\n\u001b[1;32m     28\u001b[0m n \u001b[38;5;241m=\u001b[39m np\u001b[38;5;241m.\u001b[39marange(Nbig)\n\u001b[0;32m---> 29\u001b[0m \u001b[38;5;28;01mreturn\u001b[39;00m (beta)\u001b[38;5;241m*\u001b[39mnp\u001b[38;5;241m.\u001b[39mexp(\u001b[38;5;241m1\u001b[39mj\u001b[38;5;241m*\u001b[39mnp\u001b[38;5;241m.\u001b[39mpi\u001b[38;5;241m*\u001b[39mn\u001b[38;5;241m/\u001b[39mNbig)\u001b[38;5;241m*\u001b[39m\u001b[43mifft\u001b[49m\u001b[43m(\u001b[49m\u001b[43mnp\u001b[49m\u001b[38;5;241;43m.\u001b[39;49m\u001b[43mexp\u001b[49m\u001b[43m(\u001b[49m\u001b[38;5;241;43m-\u001b[39;49m\u001b[38;5;241;43m1\u001b[39;49m\u001b[43mj\u001b[49m\u001b[38;5;241;43m*\u001b[39;49m\u001b[43mnp\u001b[49m\u001b[38;5;241;43m.\u001b[39;49m\u001b[43mpi\u001b[49m\u001b[38;5;241;43m*\u001b[39;49m\u001b[43m(\u001b[49m\u001b[43mNbig\u001b[49m\u001b[38;5;241;43m-\u001b[39;49m\u001b[38;5;241;43m1\u001b[39;49m\u001b[43m)\u001b[49m\u001b[38;5;241;43m*\u001b[39;49m\u001b[43m(\u001b[49m\u001b[43mn\u001b[49m\u001b[38;5;241;43m+\u001b[39;49m\u001b[38;5;241;43m1.\u001b[39;49m\u001b[38;5;241;43m/\u001b[39;49m\u001b[38;5;241;43m2\u001b[39;49m\u001b[43m)\u001b[49m\u001b[38;5;241;43m/\u001b[39;49m\u001b[43mNbig\u001b[49m\u001b[43m)\u001b[49m\u001b[38;5;241;43m*\u001b[39;49m\u001b[43mgg\u001b[49m\u001b[43m)\u001b[49m\n",
      "File \u001b[0;32m~/anaconda3/lib/python3.10/site-packages/scipy/fft/_backend.py:25\u001b[0m, in \u001b[0;36m_ScipyBackend.__ua_function__\u001b[0;34m(method, args, kwargs)\u001b[0m\n\u001b[1;32m     23\u001b[0m \u001b[38;5;28;01mif\u001b[39;00m fn \u001b[38;5;129;01mis\u001b[39;00m \u001b[38;5;28;01mNone\u001b[39;00m:\n\u001b[1;32m     24\u001b[0m     \u001b[38;5;28;01mreturn\u001b[39;00m \u001b[38;5;28mNotImplemented\u001b[39m\n\u001b[0;32m---> 25\u001b[0m \u001b[38;5;28;01mreturn\u001b[39;00m \u001b[43mfn\u001b[49m\u001b[43m(\u001b[49m\u001b[38;5;241;43m*\u001b[39;49m\u001b[43margs\u001b[49m\u001b[43m,\u001b[49m\u001b[43m \u001b[49m\u001b[38;5;241;43m*\u001b[39;49m\u001b[38;5;241;43m*\u001b[39;49m\u001b[43mkwargs\u001b[49m\u001b[43m)\u001b[49m\n",
      "File \u001b[0;32m~/anaconda3/lib/python3.10/site-packages/scipy/fft/_pocketfft/basic.py:31\u001b[0m, in \u001b[0;36mc2c\u001b[0;34m(forward, x, n, axis, norm, overwrite_x, workers, plan)\u001b[0m\n\u001b[1;32m     26\u001b[0m     \u001b[38;5;28;01mraise\u001b[39;00m \u001b[38;5;167;01mValueError\u001b[39;00m(\u001b[38;5;124m\"\u001b[39m\u001b[38;5;124minvalid number of data points (\u001b[39m\u001b[38;5;132;01m{0}\u001b[39;00m\u001b[38;5;124m) specified\u001b[39m\u001b[38;5;124m\"\u001b[39m\n\u001b[1;32m     27\u001b[0m                      \u001b[38;5;241m.\u001b[39mformat(tmp\u001b[38;5;241m.\u001b[39mshape[axis]))\n\u001b[1;32m     29\u001b[0m out \u001b[38;5;241m=\u001b[39m (tmp \u001b[38;5;28;01mif\u001b[39;00m overwrite_x \u001b[38;5;129;01mand\u001b[39;00m tmp\u001b[38;5;241m.\u001b[39mdtype\u001b[38;5;241m.\u001b[39mkind \u001b[38;5;241m==\u001b[39m \u001b[38;5;124m'\u001b[39m\u001b[38;5;124mc\u001b[39m\u001b[38;5;124m'\u001b[39m \u001b[38;5;28;01melse\u001b[39;00m \u001b[38;5;28;01mNone\u001b[39;00m)\n\u001b[0;32m---> 31\u001b[0m \u001b[38;5;28;01mreturn\u001b[39;00m \u001b[43mpfft\u001b[49m\u001b[38;5;241;43m.\u001b[39;49m\u001b[43mc2c\u001b[49m\u001b[43m(\u001b[49m\u001b[43mtmp\u001b[49m\u001b[43m,\u001b[49m\u001b[43m \u001b[49m\u001b[43m(\u001b[49m\u001b[43maxis\u001b[49m\u001b[43m,\u001b[49m\u001b[43m)\u001b[49m\u001b[43m,\u001b[49m\u001b[43m \u001b[49m\u001b[43mforward\u001b[49m\u001b[43m,\u001b[49m\u001b[43m \u001b[49m\u001b[43mnorm\u001b[49m\u001b[43m,\u001b[49m\u001b[43m \u001b[49m\u001b[43mout\u001b[49m\u001b[43m,\u001b[49m\u001b[43m \u001b[49m\u001b[43mworkers\u001b[49m\u001b[43m)\u001b[49m\n",
      "\u001b[0;31mKeyboardInterrupt\u001b[0m: "
     ]
    }
   ],
   "source": [
    "#Gtau = -0.5*np.ones(Nbig) \n",
    "#Gtau = 1/(4*np.pi*J**2) * (np.pi/(beta*np.sin(np.pi*tau/beta)))**0.5\n",
    "#init_Gomega = Time2FreqF(Gtau,Nbig,beta)\n",
    "#init_Gomega = Time2FreqF(Gtau,Nbig,beta)\n",
    "init_Gomega = 1./(1j*omega + mu)\n",
    "#Gtau = Freq2TimeF(1/(1j*omega + mu),Nbig,beta)\n",
    "''' It's crucial to start with this, even changing the sign here is enough to make the solution \n",
    "fall into an unwanted one'''\n",
    "\n",
    "itern = 0\n",
    "diff = 1.\n",
    "x = 0.2\n",
    "\n",
    "def fun(Gomega):\n",
    "    Gtau = Freq2TimeF(Gomega,Nbig,beta)\n",
    "    Sigmatau = J**2 * Gtau**2 * Gtau[::-1]\n",
    "    Sigmaomega = Time2FreqF(Sigmatau,Nbig,beta)\n",
    "    return(Gomega - 1./(1j*omega + mu - Sigmaomega))\n",
    "    \n",
    "\n",
    "sol = optimize.anderson(fun, init_Gomega, M=5, verbose = False, f_tol = 1e-2, maxiter=500)\n",
    "Gomega = sol \n",
    "Gtau = Freq2TimeF(Gomega,Nbig,beta)\n",
    "\n",
    "# while(diff>err):\n",
    "#     itern+=1\n",
    "#     diffold = diff\n",
    "    \n",
    "#     oldGtau = 1.0*Gtau\n",
    "#     oldGomega = Time2FreqF(oldGtau,Nbig,beta)\n",
    "    \n",
    "#     Sigmatau = J**2 * Gtau**2 * Gtau[::-1] #KMS G(-tau) = -G(beta-tau)\n",
    "#     Sigmaomega = Time2FreqF(Sigmatau,Nbig,beta)\n",
    "    \n",
    "#     Gomega = x*(1./(1j*omega + mu - Sigmaomega)) + (1-x)*oldGomega\n",
    "#     #Gtau = Freq2TimeF(Gomega - (1/(1j*omega)),Nbig,beta) - 0.5 #cool trick for Gibbs oscillations\n",
    "#     Gtau = Freq2TimeF(Gomega,Nbig,beta)\n",
    "    \n",
    "#     diff = np. sqrt((1.0/Nbig) * np.sum((np.abs(Gtau-oldGtau))**2)) \n",
    "#     if diff>diffold:\n",
    "#          x/=2\n",
    "\n",
    "\n",
    "Q = 0.5*(Gtau[0] - Gtau[-1])\n",
    "#print(\"itern = \",itern,\" , diff = \", diff, \" , x = \", x)\n",
    "print(\"Q = \", np.real(Q))"
   ]
  },
  {
   "cell_type": "code",
   "execution_count": null,
   "id": "078c3975-aaf6-49be-81d1-21252a1077ea",
   "metadata": {},
   "outputs": [],
   "source": [
    "plt.plot(tau/beta, np.real(Gtau), 'r', label = 'numerics Gtau')\n",
    "#plt.plot(tau/beta, np.real(Gconftau), 'b--', label = 'analytical Gtau' )\n",
    "plt.ylim(-1,1)\n",
    "plt.xlabel(r'$\\tau/\\beta$',labelpad = 0)\n",
    "plt.legend()\n",
    "plt.title('Q = %.3f ' %np.real(Q) )"
   ]
  },
  {
   "cell_type": "code",
   "execution_count": null,
   "id": "661d52e5-18ff-4553-9570-7fc96f4ddcf0",
   "metadata": {},
   "outputs": [],
   "source": [
    "plt.plot(omega,np.imag(Gomega),'p')\n",
    "plt.plot(omega,np.zeros_like(omega), color = 'gray', linestyle = '--')\n",
    "plt.axvline(0,color='gray',linestyle = '--')\n",
    "plt.xlim(-5,5)\n",
    "plt.xlabel(r'$\\omega_n$')\n",
    "plt.ylabel(r'$G(i\\omega_n)$')\n",
    "plt.title(r'$\\mu = $ ' + str(mu) + ' ;  Q = %.3f' %np.real(Q))"
   ]
  },
  {
   "cell_type": "code",
   "execution_count": null,
   "id": "b594c902-5b57-47bb-b274-472bf8c3f4a4",
   "metadata": {},
   "outputs": [],
   "source": [
    "plt.loglog(omega[Nbig//2:],-np.imag(Gomega[Nbig//2:]),'.')\n",
    "fudfac = -np.imag(Gomega[Nbig//2])/omega[Nbig//2]**(-0.5)\n",
    "plt.loglog(omega[Nbig//2:],fudfac* (omega[Nbig//2:]**(-0.5)),'k--')\n",
    "plt.title('Checking power law at low frequencies')\n",
    "plt.xlabel(r'$\\omega_n$')\n",
    "plt.ylabel(r'$-\\Im{G(i\\omega_n)}$')\n",
    "plt.xlim(5e-4,5e0)\n",
    "plt.ylim(5e-2,5e2)\n",
    "plt.gca().set_aspect('equal')\n",
    "plt.figure(figsize=(6,6))"
   ]
  },
  {
   "cell_type": "markdown",
   "id": "0fe46f36-96ef-44c9-abc7-a20e3aecb6d8",
   "metadata": {},
   "source": [
    "## Checking the anderson algorithm for a simple case of a function of a single variable"
   ]
  },
  {
   "cell_type": "code",
   "execution_count": null,
   "id": "afd58ee5-adf6-4244-b2ca-3a9de87d4495",
   "metadata": {},
   "outputs": [],
   "source": [
    "sol = optimize.anderson(lambda x : x**2 - 9, [2,], verbose=True)\n",
    "sol"
   ]
  },
  {
   "cell_type": "code",
   "execution_count": null,
   "id": "a16752da-2f6f-46fe-aa47-f35fa19f8d35",
   "metadata": {},
   "outputs": [],
   "source": []
  }
 ],
 "metadata": {
  "kernelspec": {
   "display_name": "Python 3 (ipykernel)",
   "language": "python",
   "name": "python3"
  },
  "language_info": {
   "codemirror_mode": {
    "name": "ipython",
    "version": 3
   },
   "file_extension": ".py",
   "mimetype": "text/x-python",
   "name": "python",
   "nbconvert_exporter": "python",
   "pygments_lexer": "ipython3",
   "version": "3.10.9"
  }
 },
 "nbformat": 4,
 "nbformat_minor": 5
}
