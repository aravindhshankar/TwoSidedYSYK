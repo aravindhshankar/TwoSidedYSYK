{
 "cells": [
  {
   "cell_type": "code",
   "execution_count": 5,
   "id": "125f8701-080d-4545-96e3-e090d213c658",
   "metadata": {},
   "outputs": [
    {
     "name": "stdout",
     "output_type": "stream",
     "text": [
      "/Users/aravindhswaminathan/Documents/GitHub/TwoSidedYSYK\n"
     ]
    }
   ],
   "source": [
    "%cd /Users/aravindhswaminathan/Documents/GitHub/TwoSidedYSYK\n",
    "from SYK_fft import *\n",
    "import numpy as np\n",
    "import matplotlib.pyplot as plt\n",
    "from matplotlib import rcParams\n",
    "from ConformalAnalytical import *"
   ]
  },
  {
   "cell_type": "code",
   "execution_count": 12,
   "id": "ea6c7369-5a26-4892-a33e-d2b4fea924df",
   "metadata": {},
   "outputs": [
    {
     "name": "stdout",
     "output_type": "stream",
     "text": [
      "T =  0.002 , mu =  0.0  lambda =  0.0\n"
     ]
    }
   ],
   "source": [
    "Nbig = int(2**18)\n",
    "err = 1e-3\n",
    "\n",
    "beta = 500\n",
    "#mu = 0.001\n",
    "mu = 0.000\n",
    "J = 1.0\n",
    "lamb = 0.0\n",
    "print('T = ', 1/beta, ', mu = ', mu, ' lambda = ', lamb)\n",
    "\n",
    "omega = (2 * np.arange(Nbig) - Nbig + 1) * np.pi/beta\n",
    "tau = (np.arange(Nbig) + 1./2) * beta/Nbig"
   ]
  },
  {
   "cell_type": "markdown",
   "id": "facbe45e-b565-42ff-848e-7407427b8715",
   "metadata": {},
   "source": [
    "# Complex SYK wormhole in Imaginary time SD equations\n",
    "\n",
    "\\begin{align}\n",
    "    \\det(M) &= \\left(-i\\omega_n - \\mu - \\Sigma_{11}\\right)^2 + \\left(i\\lambda - \\Sigma_{12}\\right)^2 \\\\\n",
    "    G_{11}(i\\omega_n) &= \\frac{-i\\omega_n-\\mu-\\Sigma_{11}(i\\omega_n)}{\\det(M)} \\\\\n",
    "    G_{12}(i\\omega_n) &= \\frac{-i\\lambda + \\Sigma_{12}(i\\omega_n)}{\\det(M)} \\\\\n",
    "    \\Sigma_{11}(\\tau) &= -J^2\\,G_{11}^2(\\tau)G_{11}(-\\tau) \\\\\n",
    "    \\Sigma_{12}(\\tau) &= J^2\\,G_{12}^2(\\tau)G_{12}(-\\tau) \\\\\n",
    "\\end{align}"
   ]
  },
  {
   "cell_type": "code",
   "execution_count": null,
   "id": "384e88e2-7cb4-4a49-9f30-ec0b16935cc8",
   "metadata": {},
   "outputs": [],
   "source": [
    "GDtau = Time2FreqF(1/(-1j*omega-mu))\n",
    "GODtau = 0.5*np.zeros(Nbig)\n",
    "\n",
    "itern = 0\n",
    "diff = 1\n",
    "x = 0.5\n",
    "xGD, xGOD = (x,x)\n",
    "diff = 1.\n",
    "\n",
    "while(diff>err):\n",
    "    itern+=1\n",
    "    \n",
    "    diffoldGD,diffoldGOD = (diffGD,diffGOD)\n",
    "    oldGDtau = 1.0*GDtau\n",
    "    oldGODtau = 1.0*GODtau\n",
    "\n",
    "    \n",
    "    oldGDomega = Time2FreqF(oldGDtau,Nbig,beta)\n",
    "    oldGODomega = Time2FreqF(oldGODtau,Nbig,beta)\n",
    "\n",
    "    \n",
    "    SigmaGDtau = J**2 * GDtau**2 * GDtau[::-1]\n",
    "    SigmaGODtau = -J**2 * GODtau**2 * GODtau[::-1]\n",
    "    \n",
    "    SigmaDomega = Time2FreqF(SigmaDtau,Nbig,beta)\n",
    "    SigmaODomega = Time2FreqF(SigmaODtau,Nbig,beta)\n",
    "    \n",
    "    detGmat = (-1j*omega - mu - SigmaDomega)**2 + (1j*lamb - SigmaODomega)**2\n",
    "    \n",
    "    GDomega = xGD*((-1j*omega - mu - SigmaDomega)/detGmat) + (1-xGD)*oldGDomega\n",
    "    GODomega = xGOD*((-1j*lamb + SigmaODomega)/detGmat) + (1-xGOD)*oldGODomega\n",
    "    \n",
    "    GDtau = Freq2TimeF(GDomega,Nbig,beta)\n",
    "    GODtau = Freq2TimeF(GODomega,Nbig,beta)\n",
    " \n",
    "    diffG = np. sqrt(np.sum((np.abs(GDomega-oldGDomega))**2)) #changed\n",
    "    diffGOD = np. sqrt(np.sum((np.abs(GODomega-oldGODomega))**2))\n",
    "    diff = 0.5*(diffG+diffD)\n",
    "    diffG,diffGOD = diff,diff\n",
    "    \n",
    "    if diffGD>diff:\n",
    "        xGD/=2.\n",
    "    if diffGOD>diff:\n",
    "        xGOD/=2.\n",
    "    print(\"itern = \",itern, \" , diff = \", diffGD, diffGOD, end = '\\r')\n"
   ]
  }
 ],
 "metadata": {
  "kernelspec": {
   "display_name": "Python 3 (ipykernel)",
   "language": "python",
   "name": "python3"
  },
  "language_info": {
   "codemirror_mode": {
    "name": "ipython",
    "version": 3
   },
   "file_extension": ".py",
   "mimetype": "text/x-python",
   "name": "python",
   "nbconvert_exporter": "python",
   "pygments_lexer": "ipython3",
   "version": "3.10.9"
  }
 },
 "nbformat": 4,
 "nbformat_minor": 5
}
