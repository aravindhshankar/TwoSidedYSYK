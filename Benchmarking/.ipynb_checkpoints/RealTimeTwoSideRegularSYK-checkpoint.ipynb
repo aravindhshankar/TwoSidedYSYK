{
 "cells": [
  {
   "cell_type": "code",
   "execution_count": 1,
   "id": "704a4a2a-e6ba-48c0-a942-ed9b9f1ec4f3",
   "metadata": {},
   "outputs": [
    {
     "name": "stdout",
     "output_type": "stream",
     "text": [
      "/Users/aravindhswaminathan/Documents/GitHub/TwoSidedYSYK\n"
     ]
    },
    {
     "data": {
      "text/plain": [
       "True"
      ]
     },
     "execution_count": 1,
     "metadata": {},
     "output_type": "execute_result"
    }
   ],
   "source": [
    "%cd /Users/aravindhswaminathan/Documents/GitHub/TwoSidedYSYK\n",
    "#!pwd\n",
    "import numpy as np\n",
    "from matplotlib import pyplot as plt\n",
    "from SYK_fft import *\n",
    "from ConformalAnalytical import *\n",
    "import testingscripts\n",
    "\n",
    "testingscripts.realtimeFFT_validator() # Should return True"
   ]
  },
  {
   "cell_type": "markdown",
   "id": "b83767d9-1ccc-44fd-ab68-823a75169430",
   "metadata": {},
   "source": [
    "# Real time S-D equations \n",
    "\\begin{align}\n",
    "G_+^{\\mathrm{ret}}(\\omega) &= \\frac{1}{\\omega-\\mu-\\Sigma_+^{\\mathrm{ret}}(\\omega)} \\\\\n",
    "\\Sigma_+^{\\mathrm{ret}}(\\omega) &= -2i J^2 \\int_0^\\infty dt\\left[\\Re{(n_{LL}^3)} - i\\Im{(n_{LR}^3)}\\right] e^{i\\omega t} \\\\\n",
    "n_{LL/LR}(t) &= \\frac{1}{\\pi}\\int_{-\\infty}^\\infty d\\omega \\frac{\\rho_+(\\omega) \\pm \\rho_+(-\\omega)}{2} n_F(\\omega) e^{-i\\omega t} \\\\\n",
    "\\rho_+(\\omega) &= -\\Im{G_+^{\\mathrm{ret}}(\\omega)}\n",
    "\\end{align}"
   ]
  },
  {
   "cell_type": "code",
   "execution_count": 2,
   "id": "e5ededc8-b510-41dc-8b9f-c91fa5787bb6",
   "metadata": {},
   "outputs": [],
   "source": [
    "def rhotosigma(rhoG,M,dt,t,J,delta=1e-6):\n",
    "    '''\n",
    "    returns [Sigma,Pi] given rhos\n",
    "    '''\n",
    "    rhoGrev = np.concatenate(([rhoG[-1]], rhoG[1:][::-1]))\n",
    "    nLL = (0.5/np.pi)*freq2time((rhoG + rhoGrev) * fermidirac(beta*omega),M,dt)\n",
    "    nLR = (0.5/np.pi)*freq2time((rhoG - rhoGrev) * fermidirac(beta*omega),M,dt)\n",
    "\n",
    "    \n",
    "    argSigma = (np.real(nLL**3) - 1j*np.imag(nLR**3)) * np.exp(-np.abs(delta*t)) * np.heaviside(t,1.0)\n",
    "    Sigma = -2j * (J**2) * time2freq(argSigma,M,dt)\n",
    "\n",
    "    return Sigma"
   ]
  },
  {
   "cell_type": "code",
   "execution_count": 3,
   "id": "49d9f304-c315-47dc-b4d7-b0cba3aae035",
   "metadata": {},
   "outputs": [],
   "source": [
    "J = 0.5\n",
    "mu = 0.001\n",
    "#mu = 0\n",
    "\n",
    "eta = 1e-6\n",
    "beta = 1000.\n",
    "\n",
    "M = int(2**20) #number of points in the grid\n",
    "T = 20000 #upper cut-off fot the time\n",
    "dt = (2*T)/((2*M))\n",
    "t = dt * (np.arange(2*M) - M)\n",
    "\n",
    "dw = np.pi/(M*dt)\n",
    "omega = dw * (np.arange(2*M) - M) \n",
    "np.testing.assert_almost_equal(dt*dw*M,np.pi,5, \"Error in fundamentals\")\n",
    "err = 1e-3\n",
    "\n",
    "#delta = 0.420374134464041\n",
    "np.testing.assert_almost_equal(np.max(np.abs(omega)),np.pi*M/T,5,\"Error in creating omega grid\")"
   ]
  },
  {
   "cell_type": "code",
   "execution_count": 4,
   "id": "d4ef04be-b445-4b22-b2d9-609cc1b1c35d",
   "metadata": {},
   "outputs": [
    {
     "name": "stderr",
     "output_type": "stream",
     "text": [
      "/Users/aravindhswaminathan/Documents/GitHub/TwoSidedYSYK/SYK_fft.py:87: RuntimeWarning: overflow encountered in exp\n",
      "  return (1.0/(1.0 + np.exp(arg)))\n"
     ]
    },
    {
     "name": "stdout",
     "output_type": "stream",
     "text": [
      "itern =  41  , diff =  0.0009706411009042704  , x =  0.0625\r"
     ]
    }
   ],
   "source": [
    "GRomega = (-1j)*np.ones(2*M)\n",
    "\n",
    "#GRomega = 1/(omega + 1j*eta - mu)\n",
    "\n",
    "\n",
    "itern = 0\n",
    "\n",
    "\n",
    "diff = 1. \n",
    "diffG = 1.\n",
    "xG = 0.5\n",
    "\n",
    "while (diff>err and itern<200): \n",
    "    itern += 1 \n",
    "    diffoldG = diffG\n",
    "    GRoldomega= 1.0*GRomega\n",
    "    \n",
    "    rhoG = -1.0*np.imag(GRomega)\n",
    "    \n",
    "    SigmaOmega = rhotosigma(rhoG,M,dt,t,J,delta=1e-6)\n",
    "    \n",
    "    GRomega = 1.0*xG/(omega + 1j*eta - mu - SigmaOmega) + (1-xG)*GRoldomega\n",
    "    \n",
    "    diffG = np. sqrt((0.5/M) * np.sum((np.abs(GRomega-GRoldomega))**2)) \n",
    "    diff = diffG\n",
    "    \n",
    "    if diffG>diffoldG:\n",
    "        xG/=2.\n",
    "\n",
    "    print(\"itern = \",itern, \" , diff = \", diffG, \" , x = \", xG, end = '\\r')\n",
    "        \n",
    "\n"
   ]
  },
  {
   "cell_type": "code",
   "execution_count": 5,
   "id": "898fc6b7-e618-42d6-9b9b-b7e9bbcacfe7",
   "metadata": {},
   "outputs": [],
   "source": [
    "GRt = (0.5/np.pi) * freq2time(GRomega,M,dt)"
   ]
  },
  {
   "cell_type": "code",
   "execution_count": 6,
   "id": "4f45da60-2841-4ed4-bb9a-984dafbe1d2e",
   "metadata": {},
   "outputs": [
    {
     "data": {
      "text/plain": [
       "<matplotlib.legend.Legend at 0x7f82b1da0400>"
      ]
     },
     "execution_count": 6,
     "metadata": {},
     "output_type": "execute_result"
    },
    {
     "data": {
      "image/png": "[encoded data removed]",
      "text/plain": [
       "<Figure size 640x480 with 1 Axes>"
      ]
     },
     "metadata": {},
     "output_type": "display_data"
    }
   ],
   "source": [
    "fig, ax = plt.subplots(1)\n",
    "\n",
    "ax.plot(2*np.pi*t/beta, np.real(GRt), label = r'numerics $Re(G^+(t))$')\n",
    "ax.plot(2*np.pi*t/beta, np.imag(GRt), label = r'numerics $Im(G^+(t))$')\n",
    "#ax.plot(tau/beta, np.real(Gconftau), 'b--', label = 'analytical Gtau' )\n",
    "#ax.set_ylim(-1,1)\n",
    "ax.set_xlim(0,10)\n",
    "ax.set_xlabel(r'$2\\pi t/\\beta$',labelpad = 0)\n",
    "ax.set_ylabel(r'${G^+(t)}$')\n",
    "ax.legend()\n",
    "\n"
   ]
  },
  {
   "cell_type": "code",
   "execution_count": 7,
   "id": "548ae826-412d-4f3c-b4b8-c35d9dc71849",
   "metadata": {},
   "outputs": [],
   "source": [
    "rhoGrev = np.concatenate(([rhoG[-1]], rhoG[1:][::-1]))\n",
    "rhoLL, rhoLR = 0.5 * (rhoG + rhoGrev), 0.5 * (rhoG - rhoGrev)\n",
    "GLLomega = -1j*(1.-fermidirac(beta*omega))*rhoLL\n",
    "GLRomega = -1j*(1.-fermidirac(beta*omega))*rhoLR\n",
    "TLLt = 2 * np.abs((0.5/np.pi)*freq2time(GLLomega,M,dt)) \n",
    "TLRt = 2 * np.abs((0.5/np.pi)*freq2time(GLRomega,M,dt)) "
   ]
  },
  {
   "cell_type": "code",
   "execution_count": 8,
   "id": "51229aef-1181-483e-ad03-114f795b8e67",
   "metadata": {},
   "outputs": [
    {
     "data": {
      "text/plain": [
       "<matplotlib.legend.Legend at 0x7f82aa6f9330>"
      ]
     },
     "execution_count": 8,
     "metadata": {},
     "output_type": "execute_result"
    },
    {
     "data": {
      "image/png": "[encoded data removed]",
      "text/plain": [
       "<Figure size 640x480 with 1 Axes>"
      ]
     },
     "metadata": {},
     "output_type": "display_data"
    }
   ],
   "source": [
    "fig, ax = plt.subplots(1)\n",
    "ax.plot(t, TLLt, c = 'C1', label = r'$T_{LL}$')\n",
    "ax.plot(t, TLRt, c = 'C2', label = r'$T_{LR}$')\n",
    "ax.set_xlim(0,25*np.pi)\n",
    "ax.set_xlabel('t')\n",
    "ax.set_title(f'$\\mu$ = {mu}, beta = {beta}')\n",
    "ax.legend()"
   ]
  },
  {
   "cell_type": "code",
   "execution_count": 9,
   "id": "788e987a-025f-4c61-9a99-94eb082cc87d",
   "metadata": {},
   "outputs": [
    {
     "data": {
      "text/plain": [
       "52.4288"
      ]
     },
     "execution_count": 9,
     "metadata": {},
     "output_type": "execute_result"
    }
   ],
   "source": [
    "M/T"
   ]
  },
  {
   "cell_type": "code",
   "execution_count": null,
   "id": "f744468f-5ca0-4194-8856-14081956c7e3",
   "metadata": {},
   "outputs": [],
   "source": []
  },
  {
   "cell_type": "code",
   "execution_count": null,
   "id": "ad7d0e35-6d26-48c6-b541-6f383de146e0",
   "metadata": {},
   "outputs": [],
   "source": []
  }
 ],
 "metadata": {
  "kernelspec": {
   "display_name": "Python 3 (ipykernel)",
   "language": "python",
   "name": "python3"
  },
  "language_info": {
   "codemirror_mode": {
    "name": "ipython",
    "version": 3
   },
   "file_extension": ".py",
   "mimetype": "text/x-python",
   "name": "python",
   "nbconvert_exporter": "python",
   "pygments_lexer": "ipython3",
   "version": "3.10.9"
  }
 },
 "nbformat": 4,
 "nbformat_minor": 5
}
