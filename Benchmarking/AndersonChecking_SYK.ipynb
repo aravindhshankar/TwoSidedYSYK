{
 "cells": [
  {
   "cell_type": "code",
   "execution_count": 1,
   "id": "075733c4-3fd4-4667-9f43-323755f592a6",
   "metadata": {},
   "outputs": [
    {
     "name": "stdout",
     "output_type": "stream",
     "text": [
      "/Users/aravindhswaminathan/Documents/GitHub/TwoSidedYSYK\n"
     ]
    }
   ],
   "source": [
    "%cd /Users/aravindhswaminathan/Documents/GitHub/TwoSidedYSYK\n",
    "#!pwd\n",
    "import numpy as np\n",
    "from matplotlib import pyplot as plt\n",
    "from SYK_fft import *\n",
    "import sys\n",
    "from scipy import optimize\n",
    "from scipy.linalg import norm\n",
    "import scipy.linalg as LA"
   ]
  },
  {
   "cell_type": "code",
   "execution_count": 2,
   "id": "154863b4-a4cc-4f09-8e73-d6a24be95dfe",
   "metadata": {},
   "outputs": [],
   "source": [
    "Nbig = int(2**18)\n",
    "err = 1e-5\n",
    "\n",
    "beta = 100.\n",
    "mu = 0.001\n",
    "J = 1.\n",
    "\n",
    "omega = (2 * np.arange(Nbig) - Nbig + 1) * np.pi/beta\n",
    "nu = (2 * np.arange(Nbig) - Nbig ) * np.pi/beta\n",
    "tau = (np.arange(Nbig) + 1./2) * beta/Nbig"
   ]
  },
  {
   "cell_type": "code",
   "execution_count": 3,
   "id": "b9aba6a9-c82f-42b8-9547-4a0041a897d4",
   "metadata": {
    "jupyter": {
     "source_hidden": true
    },
    "tags": []
   },
   "outputs": [],
   "source": [
    "def fixed_point_egraal(T, x0, err, phi=1.5, output=False):\n",
    "    \"\"\"\n",
    "    Golden Ratio Algorithm for the problem x = T(x)\n",
    "\n",
    "    T is the operator\n",
    "    x0 is the starting point\n",
    "\n",
    "    \"\"\"\n",
    "    \n",
    "    JF = lambda x: LA.norm(x)\n",
    "    \n",
    "    x, x_ = x0.copy(), x0.copy()\n",
    "    tau = 1. / phi + 1. / phi**2\n",
    "\n",
    "    F = lambda x: x - T(x)\n",
    "    la = 1\n",
    "    step_list = [la]\n",
    "    th = 1\n",
    "    Fx = F(x0)\n",
    "    values = [JF(Fx)]\n",
    "    res = 1.\n",
    "\n",
    "    while res > err:\n",
    "        x1 = x_ - la * Fx\n",
    "        Fx1 = F(x1)\n",
    "\n",
    "        n1 = LA.norm(x1 - x)**2\n",
    "        n2 = LA.norm(Fx1 - Fx)**2\n",
    "        la1 = min(tau * la, 0.25 * phi * th / la * (n1 / n2))\n",
    "        x_ = ((phi - 1) * x1 + x_) / phi\n",
    "        th = phi * la1 / la\n",
    "        x, la, Fx = x1, la1, Fx1\n",
    "        res = JF(Fx)\n",
    "        values.append(res)\n",
    "        step_list.append(la1)\n",
    "\n",
    "    return values, x, step_list"
   ]
  },
  {
   "cell_type": "code",
   "execution_count": 4,
   "id": "9031b400-27da-44aa-98c0-2fdc5aaaca5b",
   "metadata": {},
   "outputs": [
    {
     "name": "stdout",
     "output_type": "stream",
     "text": [
      "0:  |F(x)| = 74.005; step 1\n",
      "1:  |F(x)| = 43.1287; step 1\n",
      "2:  |F(x)| = 26.4319; step 1\n",
      "3:  |F(x)| = 24.387; step 1\n",
      "4:  |F(x)| = 22.8886; step 1\n",
      "5:  |F(x)| = 18.6074; step 1\n",
      "6:  |F(x)| = 12.0239; step 1\n",
      "7:  |F(x)| = 12.8938; step 1\n",
      "8:  |F(x)| = 11.4031; step 1\n",
      "9:  |F(x)| = 5.39277; step 1\n",
      "10:  |F(x)| = 6.56305; step 1\n",
      "11:  |F(x)| = 7.20154; step 1\n",
      "12:  |F(x)| = 4.2507; step 1\n",
      "13:  |F(x)| = 1.66371; step 1\n",
      "14:  |F(x)| = 1.3073; step 0.235972\n",
      "15:  |F(x)| = 1.26296; step 0.0234746\n",
      "16:  |F(x)| = 0.346724; step 1\n",
      "17:  |F(x)| = 0.166074; step 1\n",
      "18:  |F(x)| = 0.256432; step 1\n",
      "19:  |F(x)| = 0.030705; step 1\n",
      "20:  |F(x)| = 0.0410036; step 1\n",
      "21:  |F(x)| = 0.0407627; step 0.153245\n",
      "22:  |F(x)| = 0.0124449; step 1\n",
      "23:  |F(x)| = 0.016562; step 1\n",
      "24:  |F(x)| = 0.0136759; step 1\n",
      "25:  |F(x)| = 0.0205405; step 1\n",
      "26:  |F(x)| = 0.0144362; step 1\n",
      "27:  |F(x)| = 0.00225496; step 1\n",
      "Q =  0.001019849459993033\n"
     ]
    }
   ],
   "source": [
    "#Gtau = -0.5*np.ones(Nbig) \n",
    "#Gtau = 1/(4*np.pi*J**2) * (np.pi/(beta*np.sin(np.pi*tau/beta)))**0.5\n",
    "#init_Gomega = Time2FreqF(Gtau,Nbig,beta)\n",
    "#init_Gomega = Time2FreqF(Gtau,Nbig,beta)\n",
    "init_Gomega = 1./(1j*omega + mu)\n",
    "#Gtau = Freq2TimeF(1/(1j*omega + mu),Nbig,beta)\n",
    "''' It's crucial to start with this, even changing the sign here is enough to make the solution \n",
    "fall into an unwanted one'''\n",
    "\n",
    "itern = 0\n",
    "diff = 1.\n",
    "x = 0.2\n",
    "\n",
    "def fun(Gomega):\n",
    "    Gtau = Freq2TimeF(Gomega,Nbig,beta)\n",
    "    Sigmatau = J**2 * Gtau**2 * Gtau[::-1]\n",
    "    Sigmaomega = Time2FreqF(Sigmatau,Nbig,beta)\n",
    "    return(Gomega - 1./(1j*omega + mu - Sigmaomega))\n",
    "\n",
    "def rmsnorm(vec):\n",
    "    N = len(vec)\n",
    "    return np.sqrt((1./N) * np.sum(np.abs(vec)**2))\n",
    "\n",
    "\n",
    "    \n",
    "\n",
    "sol = optimize.anderson(fun, init_Gomega, verbose = True, f_tol = 1e-2, maxiter=500, tol_norm = lambda vec: norm(vec,check_finite=False))\n",
    "#sol = optimize.newton_krylov(fun, init_Gomega,f_tol=1e-3, maxiter = 300,verbose= True,tol_norm = lambda vec: norm(vec,check_finite=False))\n",
    "#sol = fixed_point_egraal(fun,init_Gomega,err=1e-2)\n",
    "Gomega = sol \n",
    "Gtau = Freq2TimeF(Gomega,Nbig,beta)\n",
    "\n",
    "\n",
    "\n",
    "Q = 0.5*(Gtau[0] - Gtau[-1])\n",
    "#print(\"itern = \",itern,\" , diff = \", diff, \" , x = \", x)\n",
    "print(\"Q = \", np.real(Q))"
   ]
  },
  {
   "cell_type": "code",
   "execution_count": 5,
   "id": "078c3975-aaf6-49be-81d1-21252a1077ea",
   "metadata": {},
   "outputs": [
    {
     "data": {
      "text/plain": [
       "Text(0.5, 1.0, 'Q = 0.001 ')"
      ]
     },
     "execution_count": 5,
     "metadata": {},
     "output_type": "execute_result"
    },
    {
     "data": {
      "image/png": "[encoded data removed]",
      "text/plain": [
       "<Figure size 640x480 with 1 Axes>"
      ]
     },
     "metadata": {},
     "output_type": "display_data"
    }
   ],
   "source": [
    "plt.plot(tau/beta, np.real(Gtau), 'r', label = 'numerics Gtau')\n",
    "#plt.plot(tau/beta, np.real(Gconftau), 'b--', label = 'analytical Gtau' )\n",
    "plt.ylim(-1,1)\n",
    "plt.xlabel(r'$\\tau/\\beta$',labelpad = 0)\n",
    "plt.legend()\n",
    "plt.title('Q = %.3f ' %np.real(Q) )"
   ]
  },
  {
   "cell_type": "code",
   "execution_count": 6,
   "id": "661d52e5-18ff-4553-9570-7fc96f4ddcf0",
   "metadata": {},
   "outputs": [
    {
     "data": {
      "text/plain": [
       "Text(0.5, 1.0, '$\\\\mu = $ 0.001 ;  Q = 0.001')"
      ]
     },
     "execution_count": 6,
     "metadata": {},
     "output_type": "execute_result"
    },
    {
     "data": {
      "image/png": "[encoded data removed]",
      "text/plain": [
       "<Figure size 640x480 with 1 Axes>"
      ]
     },
     "metadata": {},
     "output_type": "display_data"
    }
   ],
   "source": [
    "plt.plot(omega,np.imag(Gomega),'p')\n",
    "plt.plot(omega,np.zeros_like(omega), color = 'gray', linestyle = '--')\n",
    "plt.axvline(0,color='gray',linestyle = '--')\n",
    "plt.xlim(-5,5)\n",
    "plt.xlabel(r'$\\omega_n$')\n",
    "plt.ylabel(r'$G(i\\omega_n)$')\n",
    "plt.title(r'$\\mu = $ ' + str(mu) + ' ;  Q = %.3f' %np.real(Q))"
   ]
  },
  {
   "cell_type": "code",
   "execution_count": 7,
   "id": "b594c902-5b57-47bb-b274-472bf8c3f4a4",
   "metadata": {},
   "outputs": [
    {
     "data": {
      "text/plain": [
       "<Figure size 600x600 with 0 Axes>"
      ]
     },
     "execution_count": 7,
     "metadata": {},
     "output_type": "execute_result"
    },
    {
     "data": {
      "image/png": "[encoded data removed]",
      "text/plain": [
       "<Figure size 640x480 with 1 Axes>"
      ]
     },
     "metadata": {},
     "output_type": "display_data"
    },
    {
     "data": {
      "text/plain": [
       "<Figure size 600x600 with 0 Axes>"
      ]
     },
     "metadata": {},
     "output_type": "display_data"
    }
   ],
   "source": [
    "plt.loglog(omega[Nbig//2:],-np.imag(Gomega[Nbig//2:]),'.')\n",
    "fudfac = -np.imag(Gomega[Nbig//2])/omega[Nbig//2]**(-0.5)\n",
    "plt.loglog(omega[Nbig//2:],fudfac* (omega[Nbig//2:]**(-0.5)),'k--')\n",
    "plt.title('Checking power law at low frequencies')\n",
    "plt.xlabel(r'$\\omega_n$')\n",
    "plt.ylabel(r'$-\\Im{G(i\\omega_n)}$')\n",
    "plt.xlim(5e-4,5e0)\n",
    "plt.ylim(5e-2,5e2)\n",
    "plt.gca().set_aspect('equal')\n",
    "plt.figure(figsize=(6,6))"
   ]
  },
  {
   "cell_type": "markdown",
   "id": "0fe46f36-96ef-44c9-abc7-a20e3aecb6d8",
   "metadata": {},
   "source": [
    "## Checking the anderson algorithm for a simple case of a function of a single variable"
   ]
  },
  {
   "cell_type": "code",
   "execution_count": 8,
   "id": "afd58ee5-adf6-4244-b2ca-3a9de87d4495",
   "metadata": {},
   "outputs": [
    {
     "data": {
      "text/plain": [
       "array([3.])"
      ]
     },
     "execution_count": 8,
     "metadata": {},
     "output_type": "execute_result"
    }
   ],
   "source": [
    "sol = optimize.fsolve(lambda x : x**2 - 9, [2,])\n",
    "sol"
   ]
  },
  {
   "cell_type": "code",
   "execution_count": 9,
   "id": "a16752da-2f6f-46fe-aa47-f35fa19f8d35",
   "metadata": {},
   "outputs": [
    {
     "data": {
      "text/plain": [
       "(6.6332495807108, 3.3166247903554)"
      ]
     },
     "execution_count": 9,
     "metadata": {},
     "output_type": "execute_result"
    }
   ],
   "source": [
    "vec = np.array([1+2j,2+3j,3-1j,4])\n",
    "norm(vec), rmsnorm(vec)"
   ]
  },
  {
   "cell_type": "code",
   "execution_count": 10,
   "id": "fbfd4296-87ea-4d52-aacd-1886da07ae8d",
   "metadata": {},
   "outputs": [
    {
     "data": {
      "text/plain": [
       "7"
      ]
     },
     "execution_count": 10,
     "metadata": {},
     "output_type": "execute_result"
    }
   ],
   "source": [
    "def decorator(f):\n",
    "    def inner(*args,**kwargs):\n",
    "        return f(*args, **kwargs, y=5)\n",
    "    return inner\n",
    "\n",
    "@decorator\n",
    "def add(x,y):\n",
    "    return x+y\n",
    "\n",
    "add(2)\n"
   ]
  },
  {
   "cell_type": "code",
   "execution_count": null,
   "id": "52396e18-dd5d-43bb-a533-c9cb8aab0018",
   "metadata": {},
   "outputs": [],
   "source": []
  },
  {
   "cell_type": "code",
   "execution_count": null,
   "id": "b6b22076-9cef-4ba6-b64a-796d35b554ed",
   "metadata": {},
   "outputs": [],
   "source": []
  }
 ],
 "metadata": {
  "kernelspec": {
   "display_name": "Python 3 (ipykernel)",
   "language": "python",
   "name": "python3"
  },
  "language_info": {
   "codemirror_mode": {
    "name": "ipython",
    "version": 3
   },
   "file_extension": ".py",
   "mimetype": "text/x-python",
   "name": "python",
   "nbconvert_exporter": "python",
   "pygments_lexer": "ipython3",
   "version": "3.10.9"
  }
 },
 "nbformat": 4,
 "nbformat_minor": 5
}
