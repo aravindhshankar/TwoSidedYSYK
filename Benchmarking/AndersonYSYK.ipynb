{
 "cells": [
  {
   "cell_type": "code",
   "execution_count": 1,
   "id": "81ec85a0-0207-4384-a092-ca9612627323",
   "metadata": {},
   "outputs": [
    {
     "name": "stdout",
     "output_type": "stream",
     "text": [
      "/Users/aravindhswaminathan/Documents/GitHub/TwoSidedYSYK\n"
     ]
    }
   ],
   "source": [
    "%cd /Users/aravindhswaminathan/Documents/GitHub/TwoSidedYSYK\n",
    "#!pwd\n",
    "import numpy as np\n",
    "from matplotlib import pyplot as plt\n",
    "from SYK_fft import *\n",
    "import sys\n",
    "from scipy import optimize\n",
    "from scipy.linalg import norm\n",
    "import scipy.linalg as LA\n",
    "from ConformalAnalytical import *"
   ]
  },
  {
   "cell_type": "code",
   "execution_count": 2,
   "id": "bc2b833c-b822-4014-9796-dff503d5edbb",
   "metadata": {},
   "outputs": [],
   "source": [
    "Nbig = int(2**19)\n",
    "err = 1e-3\n",
    "\n",
    "beta = 100\n",
    "mu = 0.0\n",
    "g = 0.5\n",
    "#r = 0.0 + 1e-8 * 1j\n",
    "r = 1.\n",
    "#r = g**2 * beta/2 + 0.001\n",
    "#r = 1e-4\n",
    "kappa = 1.\n",
    "\n",
    "omega = (2 * np.arange(Nbig) - Nbig + 1) * np.pi/beta\n",
    "nu = (2 * np.arange(Nbig) - Nbig ) * np.pi/beta\n",
    "tau = (np.arange(Nbig) + 1./2) * beta/Nbig"
   ]
  },
  {
   "cell_type": "code",
   "execution_count": 3,
   "id": "442f5b3e-e0c8-46e3-bab2-2bb06b6f18c5",
   "metadata": {},
   "outputs": [
    {
     "ename": "TypeError",
     "evalue": "fsolve: there is a mismatch between the input and output shape of the 'func' argument 'fun'.Shape should be (1048576,) but it is (2, 524288).",
     "output_type": "error",
     "traceback": [
      "\u001b[0;31m---------------------------------------------------------------------------\u001b[0m",
      "\u001b[0;31mTypeError\u001b[0m                                 Traceback (most recent call last)",
      "Cell \u001b[0;32mIn[3], line 48\u001b[0m\n\u001b[1;32m     41\u001b[0m     \u001b[38;5;28;01mreturn\u001b[39;00m np\u001b[38;5;241m.\u001b[39msqrt((\u001b[38;5;241m1.\u001b[39m\u001b[38;5;241m/\u001b[39mN) \u001b[38;5;241m*\u001b[39m np\u001b[38;5;241m.\u001b[39msum(np\u001b[38;5;241m.\u001b[39mabs(vec)\u001b[38;5;241m*\u001b[39m\u001b[38;5;241m*\u001b[39m\u001b[38;5;241m2\u001b[39m))\n\u001b[1;32m     44\u001b[0m \u001b[38;5;66;03m#Piomega[Nbig//2] = 1.0*r - omegar2\u001b[39;00m\n\u001b[1;32m     45\u001b[0m \u001b[38;5;66;03m#sol = optimize.anderson(fun, init_Greens, verbose = True, f_tol = 2e-5, maxiter=100, M=5, \u001b[39;00m\n\u001b[1;32m     46\u001b[0m \u001b[38;5;66;03m#                        tol_norm = lambda vec: max((1./Nbig)*norm(vec, keepdims = True, check_finite = False)))\u001b[39;00m\n\u001b[0;32m---> 48\u001b[0m sol \u001b[38;5;241m=\u001b[39m \u001b[43moptimize\u001b[49m\u001b[38;5;241;43m.\u001b[39;49m\u001b[43mfsolve\u001b[49m\u001b[43m(\u001b[49m\u001b[43mfun\u001b[49m\u001b[43m,\u001b[49m\u001b[43m \u001b[49m\u001b[43minit_Greens\u001b[49m\u001b[43m)\u001b[49m\n\u001b[1;32m     49\u001b[0m Gomega, Domega \u001b[38;5;241m=\u001b[39m sol\n\u001b[1;32m     51\u001b[0m Gtau, Dtau  \u001b[38;5;241m=\u001b[39m Freq2TimeF(Gomega,Nbig,beta), Freq2TimeB(Domega,Nbig,beta)\n",
      "File \u001b[0;32m~/anaconda3/lib/python3.10/site-packages/scipy/optimize/_minpack_py.py:163\u001b[0m, in \u001b[0;36mfsolve\u001b[0;34m(func, x0, args, fprime, full_output, col_deriv, xtol, maxfev, band, epsfcn, factor, diag)\u001b[0m\n\u001b[1;32m     51\u001b[0m \u001b[38;5;124;03m\"\"\"\u001b[39;00m\n\u001b[1;32m     52\u001b[0m \u001b[38;5;124;03mFind the roots of a function.\u001b[39;00m\n\u001b[1;32m     53\u001b[0m \n\u001b[0;32m   (...)\u001b[0m\n\u001b[1;32m    153\u001b[0m \n\u001b[1;32m    154\u001b[0m \u001b[38;5;124;03m\"\"\"\u001b[39;00m\n\u001b[1;32m    155\u001b[0m options \u001b[38;5;241m=\u001b[39m {\u001b[38;5;124m'\u001b[39m\u001b[38;5;124mcol_deriv\u001b[39m\u001b[38;5;124m'\u001b[39m: col_deriv,\n\u001b[1;32m    156\u001b[0m            \u001b[38;5;124m'\u001b[39m\u001b[38;5;124mxtol\u001b[39m\u001b[38;5;124m'\u001b[39m: xtol,\n\u001b[1;32m    157\u001b[0m            \u001b[38;5;124m'\u001b[39m\u001b[38;5;124mmaxfev\u001b[39m\u001b[38;5;124m'\u001b[39m: maxfev,\n\u001b[0;32m   (...)\u001b[0m\n\u001b[1;32m    160\u001b[0m            \u001b[38;5;124m'\u001b[39m\u001b[38;5;124mfactor\u001b[39m\u001b[38;5;124m'\u001b[39m: factor,\n\u001b[1;32m    161\u001b[0m            \u001b[38;5;124m'\u001b[39m\u001b[38;5;124mdiag\u001b[39m\u001b[38;5;124m'\u001b[39m: diag}\n\u001b[0;32m--> 163\u001b[0m res \u001b[38;5;241m=\u001b[39m \u001b[43m_root_hybr\u001b[49m\u001b[43m(\u001b[49m\u001b[43mfunc\u001b[49m\u001b[43m,\u001b[49m\u001b[43m \u001b[49m\u001b[43mx0\u001b[49m\u001b[43m,\u001b[49m\u001b[43m \u001b[49m\u001b[43margs\u001b[49m\u001b[43m,\u001b[49m\u001b[43m \u001b[49m\u001b[43mjac\u001b[49m\u001b[38;5;241;43m=\u001b[39;49m\u001b[43mfprime\u001b[49m\u001b[43m,\u001b[49m\u001b[43m \u001b[49m\u001b[38;5;241;43m*\u001b[39;49m\u001b[38;5;241;43m*\u001b[39;49m\u001b[43moptions\u001b[49m\u001b[43m)\u001b[49m\n\u001b[1;32m    164\u001b[0m \u001b[38;5;28;01mif\u001b[39;00m full_output:\n\u001b[1;32m    165\u001b[0m     x \u001b[38;5;241m=\u001b[39m res[\u001b[38;5;124m'\u001b[39m\u001b[38;5;124mx\u001b[39m\u001b[38;5;124m'\u001b[39m]\n",
      "File \u001b[0;32m~/anaconda3/lib/python3.10/site-packages/scipy/optimize/_minpack_py.py:229\u001b[0m, in \u001b[0;36m_root_hybr\u001b[0;34m(func, x0, args, jac, col_deriv, xtol, maxfev, band, eps, factor, diag, **unknown_options)\u001b[0m\n\u001b[1;32m    227\u001b[0m \u001b[38;5;28;01mif\u001b[39;00m \u001b[38;5;129;01mnot\u001b[39;00m \u001b[38;5;28misinstance\u001b[39m(args, \u001b[38;5;28mtuple\u001b[39m):\n\u001b[1;32m    228\u001b[0m     args \u001b[38;5;241m=\u001b[39m (args,)\n\u001b[0;32m--> 229\u001b[0m shape, dtype \u001b[38;5;241m=\u001b[39m \u001b[43m_check_func\u001b[49m\u001b[43m(\u001b[49m\u001b[38;5;124;43m'\u001b[39;49m\u001b[38;5;124;43mfsolve\u001b[39;49m\u001b[38;5;124;43m'\u001b[39;49m\u001b[43m,\u001b[49m\u001b[43m \u001b[49m\u001b[38;5;124;43m'\u001b[39;49m\u001b[38;5;124;43mfunc\u001b[39;49m\u001b[38;5;124;43m'\u001b[39;49m\u001b[43m,\u001b[49m\u001b[43m \u001b[49m\u001b[43mfunc\u001b[49m\u001b[43m,\u001b[49m\u001b[43m \u001b[49m\u001b[43mx0\u001b[49m\u001b[43m,\u001b[49m\u001b[43m \u001b[49m\u001b[43margs\u001b[49m\u001b[43m,\u001b[49m\u001b[43m \u001b[49m\u001b[43mn\u001b[49m\u001b[43m,\u001b[49m\u001b[43m \u001b[49m\u001b[43m(\u001b[49m\u001b[43mn\u001b[49m\u001b[43m,\u001b[49m\u001b[43m)\u001b[49m\u001b[43m)\u001b[49m\n\u001b[1;32m    230\u001b[0m \u001b[38;5;28;01mif\u001b[39;00m epsfcn \u001b[38;5;129;01mis\u001b[39;00m \u001b[38;5;28;01mNone\u001b[39;00m:\n\u001b[1;32m    231\u001b[0m     epsfcn \u001b[38;5;241m=\u001b[39m finfo(dtype)\u001b[38;5;241m.\u001b[39meps\n",
      "File \u001b[0;32m~/anaconda3/lib/python3.10/site-packages/scipy/optimize/_minpack_py.py:40\u001b[0m, in \u001b[0;36m_check_func\u001b[0;34m(checker, argname, thefunc, x0, args, numinputs, output_shape)\u001b[0m\n\u001b[1;32m     38\u001b[0m             msg \u001b[38;5;241m+\u001b[39m\u001b[38;5;241m=\u001b[39m \u001b[38;5;124m\"\u001b[39m\u001b[38;5;124m.\u001b[39m\u001b[38;5;124m\"\u001b[39m\n\u001b[1;32m     39\u001b[0m         msg \u001b[38;5;241m+\u001b[39m\u001b[38;5;241m=\u001b[39m \u001b[38;5;124m'\u001b[39m\u001b[38;5;124mShape should be \u001b[39m\u001b[38;5;132;01m%s\u001b[39;00m\u001b[38;5;124m but it is \u001b[39m\u001b[38;5;132;01m%s\u001b[39;00m\u001b[38;5;124m.\u001b[39m\u001b[38;5;124m'\u001b[39m \u001b[38;5;241m%\u001b[39m (output_shape, shape(res))\n\u001b[0;32m---> 40\u001b[0m         \u001b[38;5;28;01mraise\u001b[39;00m \u001b[38;5;167;01mTypeError\u001b[39;00m(msg)\n\u001b[1;32m     41\u001b[0m \u001b[38;5;28;01mif\u001b[39;00m issubdtype(res\u001b[38;5;241m.\u001b[39mdtype, inexact):\n\u001b[1;32m     42\u001b[0m     dt \u001b[38;5;241m=\u001b[39m res\u001b[38;5;241m.\u001b[39mdtype\n",
      "\u001b[0;31mTypeError\u001b[0m: fsolve: there is a mismatch between the input and output shape of the 'func' argument 'fun'.Shape should be (1048576,) but it is (2, 524288)."
     ]
    }
   ],
   "source": [
    "Gfreetau = Freq2TimeF(1./(1j*omega + mu),Nbig,beta)\n",
    "Dfreetau = Freq2TimeB(1./(nu**2 + r),Nbig,beta)\n",
    "delta = 0.420374134464041\n",
    "omegar2 = ret_omegar2(g,beta)\n",
    "Gtau_powerlaw = -1.0*np.sign(tau)*(np.pi/np.abs(beta*np.sin(np.pi*tau/beta))) ** (2*delta)\n",
    "Dtau_powerlaw =  1.0*(np.pi/np.abs(beta*np.sin(np.pi*tau/beta))) ** (2 - 4*delta)\n",
    "\n",
    "#Gtau = Gfreetau\n",
    "#Dtau = Dfreetau\n",
    "\n",
    "#Gtau = Freq2TimeF(GconfImag(omega,g,beta),Nbig,beta)\n",
    "#Dtau = Freq2TimeB(DconfImag(nu,g,beta),Nbig,beta)\n",
    "\n",
    "#Gtau = Gtau_powerlaw * (-0.5/Gtau_powerlaw[0])\n",
    "#Dtau = Dtau_powerlaw * (DfreeImagtau(tau,r,beta)[0]/Dtau_powerlaw[0])\n",
    "\n",
    "#Gtau = -0.5*np.ones(Nbig)\n",
    "#Dtau = 1.0*np.ones(Nbig)\n",
    "\n",
    "init_Gomega = 1./(1j*omega + mu)\n",
    "init_Domega = 1./(nu**2 + r)\n",
    "init_Greens = [init_Gomega,init_Domega]\n",
    "\n",
    "def fun(Greens):\n",
    "    ''' \n",
    "    Greens[0] = Gomega, Greens[1] = Domega\n",
    "    '''\n",
    "    Gomega,Domega = Greens\n",
    "    Gtau, Dtau  = Freq2TimeF(Gomega,Nbig,beta), Freq2TimeB(Domega,Nbig,beta)\n",
    "    Sigmatau = 1.0 * kappa * (g**2) * Dtau * Gtau\n",
    "    Pitau = 2.0 * g**2 * Gtau * Gtau[::-1] \n",
    "    Sigmaomega, Piomega = Time2FreqF(Sigmatau,Nbig,beta), Time2FreqB(Pitau,Nbig,beta)\n",
    "    \n",
    "    #return np.array([Gomega - (1./(1j*omega + mu - Sigmaomega)), Domega - (1./(nu**2 + r - Piomega))])\n",
    "    return [Gomega - (1./(1j*omega + mu - Sigmaomega)), Domega - (1./(nu**2 + omegar2 - Piomega))]\n",
    "\n",
    "def rmsnorm(vec):\n",
    "    N = len(vec)\n",
    "    return np.sqrt((1./N) * np.sum(np.abs(vec)**2))\n",
    "\n",
    "\n",
    "#Piomega[Nbig//2] = 1.0*r - omegar2\n",
    "#sol = optimize.anderson(fun, init_Greens, verbose = True, f_tol = 2e-5, maxiter=100, M=5, \n",
    "#                        tol_norm = lambda vec: max((1./Nbig)*norm(vec, keepdims = True, check_finite = False)))\n",
    "\n",
    "#sol = optimize.fsolve(fun, init_Greens)\n",
    "Gomega, Domega = sol\n",
    "\n",
    "Gtau, Dtau  = Freq2TimeF(Gomega,Nbig,beta), Freq2TimeB(Domega,Nbig,beta)\n"
   ]
  },
  {
   "cell_type": "code",
   "execution_count": null,
   "id": "89c87250-d6d6-4f4c-b894-b8a077dfdc36",
   "metadata": {},
   "outputs": [],
   "source": [
    "Gconftau = Freq2TimeF(GconfImag(omega,g,beta),Nbig,beta)\n",
    "Dconftau = Freq2TimeB(DconfImag(nu,g,beta),Nbig,beta)\n",
    "FreeDtau = DfreeImagtau(tau,r,beta)\n",
    "\n",
    "fig, ax = plt.subplots(2)\n",
    "\n",
    "ax[0].plot(tau/beta, np.real(Gtau), 'r', label = 'numerics Gtau')\n",
    "ax[0].plot(tau/beta, np.real(Gconftau), 'b--', label = 'analytical Gtau' )\n",
    "ax[0].set_ylim(-1,1)\n",
    "ax[0].set_xlabel(r'$\\tau/\\beta$',labelpad = 0)\n",
    "ax[0].set_ylabel(r'$\\Re{G(\\tau)}$')\n",
    "ax[0].legend()\n",
    "\n",
    "ax[1].plot(tau/beta, np.real(Dtau), 'r', label = 'numerics Dtau')\n",
    "ax[1].plot(tau/beta, np.real(Dconftau), 'b--', label = 'analytical Dtau' )\n",
    "ax[1].plot(tau/beta, np.real(FreeDtau), 'g-.', label = 'Free D Dtau' )\n",
    "#ax[1].set_ylim(0,1)\n",
    "ax[1].set_xlabel(r'$\\tau/\\beta$',labelpad = 0)\n",
    "ax[1].set_ylabel(r'$\\Re{D(\\tau)}$')\n",
    "ax[1].legend()\n"
   ]
  },
  {
   "cell_type": "code",
   "execution_count": null,
   "id": "dd7dde31-50e1-4a2f-8105-54f8e4eea977",
   "metadata": {},
   "outputs": [],
   "source": [
    "start, stop = Nbig//2, Nbig//2 + 100\n",
    "startB, stopB = Nbig//2 + 1 , Nbig//2 + 101\n",
    "delta = 0.420374134464041\n",
    "alt_delta = 0.116902  \n",
    "\n",
    "fitG_val = -np.imag(Gomega[start])*(g**2)\n",
    "\n",
    "conf_fit_G = 1 * np.abs(omega/(g**2))**(2*delta - 1)\n",
    "conf_fit_G = conf_fit_G/conf_fit_G[start] * fitG_val\n",
    "alt_conf_fit_G = fitG_val * np.abs(omega/(g**2))**(2*alt_delta - 1)\n",
    "\n",
    "fitD_val = np.real(Domega[startB])*(g**2)\n",
    "\n",
    "conf_fit_D = 1 * np.abs(nu[startB:stopB]/(g**2))**(1-4*delta)\n",
    "conf_fit_D = conf_fit_D/conf_fit_D[0] * fitD_val\n",
    "alt_conf_fit_D = 1 * np.abs(nu[startB]/(g**2))**(1-4*alt_delta)\n",
    "\n",
    "\n",
    "fig,(ax1,ax2) = plt.subplots(1,2)\n",
    "#fig.set_figwidth(10)\n",
    "titlestring = r'$\\beta$ = ' + str(beta) + r', $\\log_2{N}$ = ' + str(np.log2(Nbig)) + r', $g = $' + str(g)\n",
    "fig.suptitle(titlestring)\n",
    "fig.tight_layout(pad=2)\n",
    "\n",
    "ax1.loglog(omega[start:stop]/(g**2), -np.imag(Gomega[start:stop])*(g**2),'p',label = 'numerics')\n",
    "ax1.loglog(omega[start:stop]/(g**2), conf_fit_G[start:stop],'k--',label = 'ES power law')\n",
    "#ax1.loglog(omega[start:]/(g**2), -np.imag(Gconf[start:])*(g**2),'m.',label = 'ES solution')\n",
    "#ax1.loglog(omega[start:]/(g**2), alt_conf_fit_G[start:],'g--', label = 'alt power law')\n",
    "#ax1.set_xlim(omega[start]/2,omega[start+15])\n",
    "#ax1.set_ylim(1e-1,1e1)\n",
    "ax1.set_xlabel(r'$\\omega_n/g^2$')\n",
    "ax1.set_ylabel(r'$-g^2\\,\\Im{G(\\omega_n)}$')\n",
    "ax1.set_aspect('equal', adjustable='box')\n",
    "#ax1.axis('square')\n",
    "ax1.legend()\n",
    "\n",
    "\n",
    "ax2.loglog(nu[startB:stopB]/(g**2), np.real(Domega[startB:stopB])*(g**2),'p',label='numerics')\n",
    "ax2.loglog(nu[startB:stopB]/(g**2), conf_fit_D,'k--',label = 'ES power law')\n",
    "#ax2.loglog(nu[startB:]/(g**2), np.real(Dconf[startB:]),'m.',label = 'ES solution')\n",
    "#ax2.loglog(nu[startB:]/(g**2), alt_conf_fit_D,'g--', label = 'alt power law')\n",
    "#ax2.set_xlim(nu[startB]/2,nu[startB+15])\n",
    "#ax2.set_ylim(5e-1,100)\n",
    "ax2.set_xlabel(r'$\\nu_n/g^2$')\n",
    "ax2.set_ylabel(r'$g^2\\,\\Re{D(\\nu_n)}$',labelpad = None)\n",
    "ax2.set_aspect('equal', adjustable='box')\n",
    "ax2.legend()\n",
    "\n",
    "#plt.savefig('lowenergy_powerlaw_ImagTime_SingleYSYK.pdf', bbox_inches = 'tight')\n"
   ]
  },
  {
   "cell_type": "code",
   "execution_count": null,
   "id": "d36a252b-8eef-49ea-8ee9-1c2ab79fcc51",
   "metadata": {},
   "outputs": [],
   "source": [
    "len(fun(init_Greens))\n",
    "a,b = fun(init_Greens)\n",
    "a"
   ]
  },
  {
   "cell_type": "code",
   "execution_count": null,
   "id": "d0b9be0c-aada-4beb-add4-3c1f08249a5f",
   "metadata": {},
   "outputs": [],
   "source": []
  }
 ],
 "metadata": {
  "kernelspec": {
   "display_name": "Python 3 (ipykernel)",
   "language": "python",
   "name": "python3"
  },
  "language_info": {
   "codemirror_mode": {
    "name": "ipython",
    "version": 3
   },
   "file_extension": ".py",
   "mimetype": "text/x-python",
   "name": "python",
   "nbconvert_exporter": "python",
   "pygments_lexer": "ipython3",
   "version": "3.10.9"
  }
 },
 "nbformat": 4,
 "nbformat_minor": 5
}
