{
 "cells": [
  {
   "cell_type": "code",
   "execution_count": 1,
   "id": "b6e37eec-cbd2-49ec-b8b0-3e51474d3ade",
   "metadata": {},
   "outputs": [],
   "source": [
    "from SYK_fft import *\n",
    "import numpy as np\n",
    "import matplotlib.pyplot as plt\n",
    "from matplotlib import rcParams"
   ]
  },
  {
   "cell_type": "code",
   "execution_count": 20,
   "id": "4fb3989a-89af-4c5b-bca8-e8b86e68b86b",
   "metadata": {},
   "outputs": [],
   "source": [
    "# Nbig = int(1e4)\n",
    "Nbig = 10\n",
    "Jot = 1.0\n",
    "err = 1e-4\n",
    "\n",
    "beta = np.pi\n",
    "beta = 10\n",
    "mu = 0\n",
    "g = 1.0\n",
    "J = 1.0\n",
    "phase = np.pi/2\n",
    "lamb = 1.0 * np.exp(1.0j * phase)\n",
    "alpha = 1.0\n",
    "\n",
    "\n",
    "omega = (2 * np.arange(Nbig) - Nbig + 1) * np.pi/beta\n",
    "nu = (2 * np.arange(Nbig) - Nbig ) * np.pi/beta\n",
    "tau = (np.arange(Nbig) + 1./2) * beta/Nbig"
   ]
  },
  {
   "cell_type": "code",
   "execution_count": null,
   "id": "ea2ce7cc-9120-47b0-9f27-a5fa7bacc284",
   "metadata": {},
   "outputs": [],
   "source": [
    "GDtau = np.ones(Nbig)\n",
    "#SigmaDtau = np.ones(Nbig)\n",
    "GODtau = np.ones(Nbig)\n",
    "#SigmaODtau = np.ones(Nbig)\n",
    "DDtau = np.ones(Nbig)\n",
    "#Pitau = np.ones(Nbig)\n",
    "DODtau = np.ones(Nbig)\n",
    "\n",
    "\n",
    "\n",
    "itern = 0\n",
    "diff = 1\n",
    "x = 0.5\n",
    "\n",
    "\n",
    "\n",
    "while(diff>err):\n",
    "    itern+=1\n",
    "    diffold = diff\n",
    "    \n",
    "    oldGDtau = 1.0*GDtau\n",
    "    oldGODtau = 1.0*GODtau\n",
    "    oldDDtau = 1.0*DDtau\n",
    "    oldDODtau = 1.0*DODtau\n",
    "    \n",
    "    Goldomega = Time2FreqF(Goldtau,Nbig,beta)\n",
    "    \n",
    "    \n",
    "    SigmaDtau = kappa * (g**2) * DDtau * GDtau\n",
    "    Sigmaomega = Time2FreqF(Sigmatau,Nbig,beta)\n",
    "    Gomega = x/(-1j*omega - Sigmaomega) + (1-x)*Goldomega\n",
    "    Gtau = Freq2TimeF(Gomega,Nbig,beta)\n",
    "    diff = (1/Nbig) * np. sqrt(np.sum((np.abs(Gtau-Goldtau))**2))\n",
    "    if diff>diffold:\n",
    "        x/=2\n",
    "\n",
    "\n",
    "\n",
    "\n",
    "\n",
    "    \n",
    "print(\"iter = \",itern,\" , diff = \", diff)\n",
    "    "
   ]
  },
  {
   "cell_type": "code",
   "execution_count": null,
   "id": "e9c1198a-75d1-4504-aff1-317ff43ad781",
   "metadata": {},
   "outputs": [],
   "source": [
    "\n",
    "val = 1\n",
    "\n",
    "ax = plt.plot(np.real(Gtau[val:-val]),'r')\n",
    "\n",
    "plt.xlim([0,Nbig])\n",
    "plt.ylim([0,0.6])\n",
    "plt.title(\"G(tau) \")\n",
    "plt.show()"
   ]
  },
  {
   "cell_type": "code",
   "execution_count": 8,
   "id": "eefd3b08-f029-4e4b-8b43-16709416d796",
   "metadata": {},
   "outputs": [
    {
     "data": {
      "text/plain": [
       "array([5, 8, 9, 8, 5])"
      ]
     },
     "execution_count": 8,
     "metadata": {},
     "output_type": "execute_result"
    }
   ],
   "source": [
    "A = np.array([1,2,3,4,5])\n",
    "A * A[::-1] "
   ]
  },
  {
   "cell_type": "code",
   "execution_count": 15,
   "id": "835a3232-eed0-487a-a1f0-28c7804d111d",
   "metadata": {},
   "outputs": [
    {
     "data": {
      "text/plain": [
       "(array([-6., -4., -2.,  0.,  2.,  4.]), array([-5., -3., -1.,  1.,  3.,  5.]))"
      ]
     },
     "execution_count": 15,
     "metadata": {},
     "output_type": "execute_result"
    }
   ],
   "source": [
    "nu, omega"
   ]
  },
  {
   "cell_type": "code",
   "execution_count": 21,
   "id": "045fa95f-579f-4d25-93bc-95e7b35063d0",
   "metadata": {},
   "outputs": [
    {
     "data": {
      "text/plain": [
       "array([0.5, 1.5, 2.5, 3.5, 4.5, 5.5, 6.5, 7.5, 8.5, 9.5])"
      ]
     },
     "execution_count": 21,
     "metadata": {},
     "output_type": "execute_result"
    }
   ],
   "source": [
    "tau"
   ]
  },
  {
   "cell_type": "code",
   "execution_count": 25,
   "id": "bcaa5c9a-852f-461e-9bb2-cf7798541af6",
   "metadata": {},
   "outputs": [
    {
     "data": {
      "text/plain": [
       "(0.5, 9.5, 9.5)"
      ]
     },
     "execution_count": 25,
     "metadata": {},
     "output_type": "execute_result"
    }
   ],
   "source": [
    "i = 0 \n",
    "tau[i], beta-tau[i], tau[-i-1]"
   ]
  },
  {
   "cell_type": "code",
   "execution_count": null,
   "id": "e47a5f0b-c6b6-4e61-9e5c-fe9271d696f8",
   "metadata": {},
   "outputs": [],
   "source": []
  }
 ],
 "metadata": {
  "kernelspec": {
   "display_name": "Python 3 (ipykernel)",
   "language": "python",
   "name": "python3"
  },
  "language_info": {
   "codemirror_mode": {
    "name": "ipython",
    "version": 3
   },
   "file_extension": ".py",
   "mimetype": "text/x-python",
   "name": "python",
   "nbconvert_exporter": "python",
   "pygments_lexer": "ipython3",
   "version": "3.10.9"
  }
 },
 "nbformat": 4,
 "nbformat_minor": 5
}
