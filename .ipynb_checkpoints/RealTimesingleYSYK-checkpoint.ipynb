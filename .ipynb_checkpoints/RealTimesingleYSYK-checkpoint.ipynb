{
 "cells": [
  {
   "cell_type": "code",
   "execution_count": 1,
   "id": "6415ce32-ac9f-40ca-b0e8-8f741c0887d4",
   "metadata": {},
   "outputs": [],
   "source": [
    "import numpy as np\n",
    "from matplotlib import pyplot as plt\n",
    "from SYK_fft import *\n",
    "from ConformalAnalytical import *\n",
    "import testingscripts"
   ]
  },
  {
   "cell_type": "code",
   "execution_count": 2,
   "id": "2b35e33d-5511-4fbb-b201-1f0d00616226",
   "metadata": {},
   "outputs": [
    {
     "data": {
      "text/plain": [
       "True"
      ]
     },
     "execution_count": 2,
     "metadata": {},
     "output_type": "execute_result"
    }
   ],
   "source": [
    "testingscripts.realtimeFFT_validator() # Should return True"
   ]
  },
  {
   "cell_type": "code",
   "execution_count": 4,
   "id": "e759a8d8-a25d-49b3-8bd2-626d0699b4b2",
   "metadata": {},
   "outputs": [],
   "source": [
    "def newheavisidehackedrhotosigma(rho,omega,t,dt,Jot,M,beta,delta = 1e-6):\n",
    "    '''\n",
    "    Assume rho is 2 component with the [0] being fermion and [1] being boson\n",
    "    '''\n",
    "    nplus = (1/np.pi)*freq2time(rho * fermidirac(beta*omega),M,dt)\n",
    "    nminus = (1/np.pi)*freq2time(rho * fermidirac(-beta*omega),M,dt)\n",
    "    hackedarg = (nplus**3 + nminus**3) * np.exp(-np.abs(delta*t)) * np.heaviside(t,1.0)\n",
    "    sigmaR = -1j * Jot**2 * time2freq(hackedarg,M,dt)\n",
    "    return sigmaR\n",
    "\n",
    "\n",
    "g = 1.\n",
    "mu = 0.\n",
    "r = 1.\n",
    "eta = 1e-6\n",
    "beta = 10.\n",
    "\n",
    "M = int(2**18) #number of points in the grid\n",
    "T = 2000 #upper cut-off fot the time\n",
    "dt = (2*T)/((2*M))\n",
    "t = dt * (np.arange(2*M) - M)\n",
    "\n",
    "dw = np.pi/(M*dt)\n",
    "omega = dw * (np.arange(2*M) - M) \n",
    "np.testing.assert_almost_equal(dt*dw*M,np.pi,5, \"Error in fundamentals\")\n",
    "err = 1e-12\n",
    "\n",
    "delta = 1e-2\n",
    "np.testing.assert_almost_equal(np.max(np.abs(omega)),np.pi*M/T,5,\"Error in creating omega grid\")\n",
    "\n",
    "\n"
   ]
  },
  {
   "cell_type": "code",
   "execution_count": null,
   "id": "0970d959-62cf-4e0e-9acb-af30be0af3bb",
   "metadata": {},
   "outputs": [],
   "source": [
    "#GRomega = (1j)*np.ones(2*M)\n",
    "GRomega = 1/(omega + 1j*delta)\n",
    "#GRomega = time2freq(GRconf(t+1j*delta,J = Jot,beta = beta),M,dt)\n",
    "\n",
    "itern = 0\n",
    "diff = 0.5\n",
    "x = 0.5\n",
    "\n",
    "while (diff>err and itern<1000): \n",
    "    itern += 1 \n",
    "    diffold = diff\n",
    "    GRoldomega = 1.0*GRomega \n",
    "    rho = -1.0*np.imag(GRomega)\n",
    "    SigmaOmega = newheavisidehackedrhotosigma(rho, omega, t, dt, Jot, M, beta, delta)\n",
    "    GRomega = 1.0*x/(omega + 1j*delta - SigmaOmega) + (1-x)*GRoldomega\n",
    "    #GRomega = 1/(omega + 1j*delta - SigmaOmega)\n",
    "    diff = (1/(2*M)) * np. sqrt(np.sum((np.abs(GRoldomega-GRomega))**2))\n",
    "    if diff>diffold:\n",
    "        x/=2\n",
    "        \n",
    "GWomega = 1*rho/(1*np.cosh(beta*omega/2))\n",
    "[itern,diff,x] "
   ]
  },
  {
   "cell_type": "code",
   "execution_count": 11,
   "id": "39c24e7c-2497-4b73-a594-eabaa2af8d9f",
   "metadata": {},
   "outputs": [
    {
     "data": {
      "text/plain": [
       "-0.0015707963268027925"
      ]
     },
     "execution_count": 11,
     "metadata": {},
     "output_type": "execute_result"
    }
   ],
   "source": [
    "omega[0] + omega[-1]"
   ]
  },
  {
   "cell_type": "code",
   "execution_count": null,
   "id": "e3f25f98-76d5-4c9f-bb5b-27e2cb5fb217",
   "metadata": {},
   "outputs": [],
   "source": [
    "def rhotosigma(rhoG,rhoD,M,dt,t,g,kappa=1,delta=1e-6):\n",
    "    '''\n",
    "    returns [Sigma,Pi] given rhos\n",
    "    '''\n",
    "    rhoGrev = np.concatenate(([rhoG[-1]], rhoG[1:][::-1]))\n",
    "    rhoFpp = (1/np.pi)*freq2time(rhoG * fermidirac(beta*omega),M,dt)\n",
    "    rhoFpm = (1/np.pi)*freq2time(rhoG * fermidirac(-1.*beta*omega),M,dt)\n",
    "    rhoFmp = (1/np.pi)*freq2time(rhoGrev * fermidirac(beta*omega),M,dt)\n",
    "    rhoFmm = (1/np.pi)*freq2time(rhoGrev * fermidirac(-1.*beta*omega),M,dt)\n",
    "    rhoBpp = (1/np.pi)*freq2time(rhoD * boseeinsten(beta*omega),M,dt)\n",
    "    rhoBpm = (1/np.pi)*freq2time(rhoD * boseeinsten(-1.*beta*omega),M,dt)\n",
    "    \n",
    "    argSigma = (rhoFpm*rhoBpm - rhoFpp*rhoBpp) * np.exp(-np.abs(delta*t)) * np.heaviside(t,1.0)\n",
    "    Sigma = 1j*(g**2)*kappa * time2freq(argsigma,M,dt)\n",
    "    \n",
    "    argPi = (rhoFpp*rhoFmp - rhoFpm*rhoFmm) * np.exp(-np.abs(delta*t)) * np.heaviside(t,1.0)\n",
    "    Pi = 2*1j*(g**2) * time2freq(argPi,M,dt)\n",
    "    \n",
    "    return [Sigma, Pi]"
   ]
  },
  {
   "cell_type": "code",
   "execution_count": null,
   "id": "203ac4ca-fb25-431f-9e17-8c94f5e64f56",
   "metadata": {},
   "outputs": [],
   "source": []
  }
 ],
 "metadata": {
  "kernelspec": {
   "display_name": "Python 3 (ipykernel)",
   "language": "python",
   "name": "python3"
  },
  "language_info": {
   "codemirror_mode": {
    "name": "ipython",
    "version": 3
   },
   "file_extension": ".py",
   "mimetype": "text/x-python",
   "name": "python",
   "nbconvert_exporter": "python",
   "pygments_lexer": "ipython3",
   "version": "3.10.9"
  }
 },
 "nbformat": 4,
 "nbformat_minor": 5
}
