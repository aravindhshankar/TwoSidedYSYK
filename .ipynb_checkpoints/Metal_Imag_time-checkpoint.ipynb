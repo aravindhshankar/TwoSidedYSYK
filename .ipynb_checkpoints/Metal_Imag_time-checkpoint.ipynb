{
 "cells": [
  {
   "cell_type": "code",
   "execution_count": 1,
   "id": "b6e37eec-cbd2-49ec-b8b0-3e51474d3ade",
   "metadata": {},
   "outputs": [],
   "source": [
    "from SYK_fft import *\n",
    "import numpy as np\n",
    "import matplotlib.pyplot as plt\n",
    "from matplotlib import rcParams"
   ]
  },
  {
   "cell_type": "code",
   "execution_count": 20,
   "id": "4fb3989a-89af-4c5b-bca8-e8b86e68b86b",
   "metadata": {},
   "outputs": [],
   "source": [
    "# Nbig = int(1e4)\n",
    "Nbig = 10\n",
    "Jot = 1.0\n",
    "err = 1e-4\n",
    "\n",
    "beta = np.pi\n",
    "beta = 10\n",
    "mu = 0\n",
    "g = 1.0\n",
    "J = 1.0\n",
    "phase = np.pi/2\n",
    "lamb = 1.0 * np.exp(1.0j * phase)\n",
    "alpha = 1.0\n",
    "r = 0.1\n",
    "\n",
    "\n",
    "omega = (2 * np.arange(Nbig) - Nbig + 1) * np.pi/beta\n",
    "nu = (2 * np.arange(Nbig) - Nbig ) * np.pi/beta\n",
    "tau = (np.arange(Nbig) + 1./2) * beta/Nbig"
   ]
  },
  {
   "cell_type": "code",
   "execution_count": null,
   "id": "ea2ce7cc-9120-47b0-9f27-a5fa7bacc284",
   "metadata": {},
   "outputs": [],
   "source": [
    "GDtau = np.ones(Nbig)\n",
    "GODtau = np.ones(Nbig)\n",
    "DDtau = np.ones(Nbig)\n",
    "DODtau = np.ones(Nbig)\n",
    "\n",
    "itern = 0\n",
    "diff = 1\n",
    "x = 0.5\n",
    "\n",
    "while(diff>err):\n",
    "    itern+=1\n",
    "    diffold = diff\n",
    "    \n",
    "    oldGDtau = 1.0*GDtau\n",
    "    oldGODtau = 1.0*GODtau\n",
    "    oldDDtau = 1.0*DDtau\n",
    "    oldDODtau = 1.0*DODtau\n",
    "    \n",
    "    oldGDomega = Time2FreqF(oldGDtau,Nbig,beta)\n",
    "    oldGODomega = Time2FreqF(oldGOdtau,Nbig,beta)\n",
    "    oldDDomega = Time2FreqB(oldDDtau,Nbig,beta)\n",
    "    oldDODomega = Time2FreqB(oldDODtau,Nbig,beta)\n",
    "    \n",
    "    SigmaDtau = kappa * (g**2) * DDtau * GDtau\n",
    "    SigmaODtau = kappa * (g**2) * DODtau * GODtau\n",
    "    PiDtau = g**2 * GDtau * GDtau[::-1]\n",
    "    PiODtau = g**2 * GODtau * GODtau[::-1]\n",
    "    \n",
    "    SigmaDomega = Time2FreqF(SigmaDtau,Nbig,beta)\n",
    "    SigmaODomega = Time2FreqF(SigmaODtau,Nbig,beta)\n",
    "    PiDomega =  Time2FreqB(PiDtau,Nbig,beta)\n",
    "    PiODomega = Time2FreqB(PiODtau,Nbig,beta)\n",
    "    \n",
    "    detGmat = (1j*omega - mu - SigmaDomega)**2 + (np.abs(lamb)+SigmaODomega)**2\n",
    "    detDmat = (nu**2 + r - PiDomega)**2 + (J + PiODomega)**2\n",
    "    \n",
    "    GDomega = x*((1j*omega - mu - SigmaDomega)/detGmat) + (1-x)*oldGDomega\n",
    "    GDomega = x*((np.abs(lamb) + SigmaODomega)/detGmat) + (1-x)*oldGODomega\n",
    "    DDomega = x*((nu**2 + r - PiDomega)/detDmat) + (1-x)*oldDDomega\n",
    "    DODomega = x*((J + PiODomega)/detDmat) + (1-x)*oldDODomega\n",
    "    \n",
    "    GDtau = Freq2TimeF(GDomega,Nbig,beta)\n",
    "    GODtau = Freq2TimeF(GODomega,Nbig,beta)\n",
    "    DDtau = Freq2TimeB(DDomega,Nbig,beta)\n",
    "    DODtau = Freq2TimeB(DODomega,Nbig,beta)\n",
    "    \n",
    "    diff = (1/Nbig) * np. sqrt(np.sum((np.abs(GDtau-oldGDtau))**2 + (np.abs(GODtau-oldGODtau))**2 + \n",
    "                                      (np.abs(DDtau-oldDDtau))**2 + (np.abs(DODtau-oldDODtau))**2))\n",
    "    \n",
    "    if diff>diffold:\n",
    "        x/=2\n",
    "\n",
    "\n",
    "    \n",
    "print(\"iter = \",itern,\" , diff = \", diff)\n",
    "    "
   ]
  },
  {
   "cell_type": "code",
   "execution_count": null,
   "id": "e9c1198a-75d1-4504-aff1-317ff43ad781",
   "metadata": {},
   "outputs": [],
   "source": [
    "\n",
    "val = 1\n",
    "\n",
    "ax = plt.plot(np.real(Gtau[val:-val]),'r')\n",
    "\n",
    "plt.xlim([0,Nbig])\n",
    "plt.ylim([0,0.6])\n",
    "plt.title(\"G(tau) \")\n",
    "plt.show()"
   ]
  },
  {
   "cell_type": "code",
   "execution_count": 8,
   "id": "eefd3b08-f029-4e4b-8b43-16709416d796",
   "metadata": {},
   "outputs": [
    {
     "data": {
      "text/plain": [
       "array([5, 8, 9, 8, 5])"
      ]
     },
     "execution_count": 8,
     "metadata": {},
     "output_type": "execute_result"
    }
   ],
   "source": [
    "A = np.array([1,2,3,4,5])\n",
    "A * A[::-1] "
   ]
  },
  {
   "cell_type": "code",
   "execution_count": 15,
   "id": "835a3232-eed0-487a-a1f0-28c7804d111d",
   "metadata": {},
   "outputs": [
    {
     "data": {
      "text/plain": [
       "(array([-6., -4., -2.,  0.,  2.,  4.]), array([-5., -3., -1.,  1.,  3.,  5.]))"
      ]
     },
     "execution_count": 15,
     "metadata": {},
     "output_type": "execute_result"
    }
   ],
   "source": [
    "nu, omega"
   ]
  },
  {
   "cell_type": "code",
   "execution_count": 29,
   "id": "045fa95f-579f-4d25-93bc-95e7b35063d0",
   "metadata": {},
   "outputs": [
    {
     "data": {
      "text/plain": [
       "3.605551275463989"
      ]
     },
     "execution_count": 29,
     "metadata": {},
     "output_type": "execute_result"
    }
   ],
   "source": [
    "np.abs(2+3j)"
   ]
  },
  {
   "cell_type": "code",
   "execution_count": 28,
   "id": "bcaa5c9a-852f-461e-9bb2-cf7798541af6",
   "metadata": {},
   "outputs": [
    {
     "data": {
      "text/plain": [
       "(2.5, 7.5, 7.5)"
      ]
     },
     "execution_count": 28,
     "metadata": {},
     "output_type": "execute_result"
    }
   ],
   "source": [
    "i = 2\n",
    "tau[i], beta-tau[i], tau[::-1][i]"
   ]
  },
  {
   "cell_type": "code",
   "execution_count": null,
   "id": "e47a5f0b-c6b6-4e61-9e5c-fe9271d696f8",
   "metadata": {},
   "outputs": [],
   "source": []
  }
 ],
 "metadata": {
  "kernelspec": {
   "display_name": "Python 3 (ipykernel)",
   "language": "python",
   "name": "python3"
  },
  "language_info": {
   "codemirror_mode": {
    "name": "ipython",
    "version": 3
   },
   "file_extension": ".py",
   "mimetype": "text/x-python",
   "name": "python",
   "nbconvert_exporter": "python",
   "pygments_lexer": "ipython3",
   "version": "3.10.9"
  }
 },
 "nbformat": 4,
 "nbformat_minor": 5
}
