{
 "cells": [
  {
   "cell_type": "code",
   "execution_count": 1,
   "metadata": {},
   "outputs": [],
   "source": [
    "#from SYK_fft import Freq2Time, Time2Freq\n",
    "from SYK_fft import *\n",
    "import numpy as np\n",
    "import matplotlib.pyplot as plt\n",
    "from matplotlib import rcParams"
   ]
  },
  {
   "cell_type": "code",
   "execution_count": 30,
   "metadata": {
    "tags": []
   },
   "outputs": [],
   "source": [
    "Nbig = int(1e4)\n",
    "Jot = 1.0\n",
    "err = 1e-6\n",
    "\n",
    "beta = np.pi\n",
    "mu  = 0\n",
    "g = 1.0\n",
    "J = 1.0\n",
    "phase = np.pi/2\n",
    "lamb = 1.0 * np.exp(1.0j * phase)\n",
    "\n",
    "alpha = 1.0\n",
    "\n",
    "T = 1./beta"
   ]
  },
  {
   "cell_type": "code",
   "execution_count": 36,
   "metadata": {
    "tags": []
   },
   "outputs": [
    {
     "name": "stdout",
     "output_type": "stream",
     "text": [
      "iter =  10  , diff =  4.889877895597472e-07\n"
     ]
    }
   ],
   "source": [
    "Gtau = np.ones(Nbig)\n",
    "#Gtau = np.ones((2,2,Nbig))\n",
    "#Sigmatau = np.ones((2,2,Nbig))\n",
    "#Dtau = np.ones((2,2,Nbig))\n",
    "#Pitau = np.ones((2,2,Nbig))\n",
    "itern = 0\n",
    "diff = 1\n",
    "x = 0.5\n",
    "\n",
    "omega = (2 * np.arange(Nbig) - Nbig + 1) * np.pi/beta\n",
    "nu = (2 * np.arange(Nbig) - Nbig ) * np.pi/beta\n",
    "tau = (np.arange(Nbig) + 1./2) * beta/Nbig\n",
    "\n",
    "while(diff>err):\n",
    "    itern+=1\n",
    "    diffold = diff\n",
    "    Goldtau = 1.0*Gtau \n",
    "    Goldomega = Time2FreqF(Goldtau,Nbig,beta)\n",
    "    Sigmatau = (Jot**2) * (Gtau**3)\n",
    "    Sigmaomega = Time2FreqF(Sigmatau,Nbig,beta)\n",
    "    Gomega = x/(-1j*omega - Sigmaomega) + (1-x)*Goldomega\n",
    "    Gtau = Freq2TimeF(Gomega,Nbig,beta)\n",
    "    diff = (1/Nbig) * np. sqrt(np.sum((np.abs(Gtau-Goldtau))**2))\n",
    "    if diff>diffold:\n",
    "        x/=2\n",
    "\n",
    "\n",
    "\n",
    "\n",
    "\n",
    "    \n",
    "print(\"iter = \",itern,\" , diff = \", diff)\n",
    "    \n",
    "    "
   ]
  },
  {
   "cell_type": "code",
   "execution_count": 4,
   "metadata": {},
   "outputs": [
    {
     "data": {
      "image/png": "[encoded data removed]",
      "text/plain": [
       "<Figure size 640x480 with 1 Axes>"
      ]
     },
     "metadata": {},
     "output_type": "display_data"
    }
   ],
   "source": [
    "#val = 45000\n",
    "val = 1\n",
    "#rcParams['text.usetex'] = False\n",
    "#plt.rcParams.update({\"text.usetex\": False,})\n",
    "#fig, ax = plt.plot(np.real(Gtau[val:-val]),'r',GconfTimeFinite(4,Jot,beta,Nbig)[val:-val],'-.')\n",
    "ax = plt.plot(np.real(Gtau[val:-val]),'r')\n",
    "plt.xlim([0,Nbig])\n",
    "plt.ylim([0,0.6])\n",
    "plt.title(\"G(tau) at beta J = 50 - compare with MaldacenaComments Fig15 right\")\n",
    "plt.show()\n",
    "#plt.plot(np.imag(Gomega))\n",
    "#plt.show\n",
    "#plt.plot(GconfTimeFinite(4,Jot,beta,Nbig))\n",
    "#plt.savefig(\"GtauSanityCheck.png\")"
   ]
  },
  {
   "cell_type": "code",
   "execution_count": 17,
   "metadata": {},
   "outputs": [
    {
     "data": {
      "text/plain": [
       "(-99999.0, 99999.0, -100000.0, 99998.0)"
      ]
     },
     "execution_count": 17,
     "metadata": {},
     "output_type": "execute_result"
    }
   ],
   "source": [
    "omega[0], omega[-1], nu[0],nu[-1]"
   ]
  },
  {
   "cell_type": "code",
   "execution_count": 29,
   "metadata": {},
   "outputs": [
    {
     "name": "stdout",
     "output_type": "stream",
     "text": [
      "-99995.0 99995.0 99995.0\n"
     ]
    }
   ],
   "source": [
    "i = 2 \n",
    "print(omega[i], omega[-i-1], omega[Nbig-i-1])"
   ]
  },
  {
   "cell_type": "code",
   "execution_count": 23,
   "metadata": {},
   "outputs": [
    {
     "data": {
      "text/plain": [
       "(1, 2, 3, 4)"
      ]
     },
     "execution_count": 23,
     "metadata": {},
     "output_type": "execute_result"
    }
   ],
   "source": [
    "M = np.array([[1,2],[3,4]])\n",
    "M[0,0], M[0,1], M[1,0], M[1,1]"
   ]
  },
  {
   "cell_type": "code",
   "execution_count": 34,
   "metadata": {},
   "outputs": [
    {
     "data": {
      "text/plain": [
       "array([1., 1., 1., 1., 1., 1.])"
      ]
     },
     "execution_count": 34,
     "metadata": {},
     "output_type": "execute_result"
    }
   ],
   "source": [
    "M = np.ones((2,2,6))\n",
    "M[1,1]"
   ]
  },
  {
   "cell_type": "code",
   "execution_count": 37,
   "metadata": {},
   "outputs": [
    {
     "data": {
      "text/plain": [
       "array([[[0.84147098, 0.84147098, 0.84147098, 0.84147098, 0.84147098,\n",
       "         0.84147098],\n",
       "        [0.84147098, 0.84147098, 0.84147098, 0.84147098, 0.84147098,\n",
       "         0.84147098]],\n",
       "\n",
       "       [[0.84147098, 0.84147098, 0.84147098, 0.84147098, 0.84147098,\n",
       "         0.84147098],\n",
       "        [0.84147098, 0.84147098, 0.84147098, 0.84147098, 0.84147098,\n",
       "         0.84147098]]])"
      ]
     },
     "execution_count": 37,
     "metadata": {},
     "output_type": "execute_result"
    }
   ],
   "source": [
    "np.sin(M)"
   ]
  },
  {
   "cell_type": "code",
   "execution_count": null,
   "metadata": {},
   "outputs": [],
   "source": []
  }
 ],
 "metadata": {
  "kernelspec": {
   "display_name": "Python 3 (ipykernel)",
   "language": "python",
   "name": "python3"
  },
  "language_info": {
   "codemirror_mode": {
    "name": "ipython",
    "version": 3
   },
   "file_extension": ".py",
   "mimetype": "text/x-python",
   "name": "python",
   "nbconvert_exporter": "python",
   "pygments_lexer": "ipython3",
   "version": "3.10.9"
  }
 },
 "nbformat": 4,
 "nbformat_minor": 4
}
