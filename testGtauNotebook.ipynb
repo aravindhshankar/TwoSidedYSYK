{
 "cells": [
  {
   "cell_type": "code",
   "execution_count": 1,
   "metadata": {},
   "outputs": [],
   "source": [
    "from SYK_fft import Freq2Time, Time2Freq\n",
    "import numpy as np\n",
    "import matplotlib.pyplot as plt\n",
    "#from SYK_conformal import GconfTimeFinite\n",
    "from matplotlib import rcParams"
   ]
  },
  {
   "cell_type": "code",
   "execution_count": 2,
   "metadata": {},
   "outputs": [],
   "source": [
    "Nbig = int(1e5)\n",
    "Jot = 1\n",
    "#T_list = [0.001*Jot]\n",
    "#T = T_list[0]\n",
    "#beta = 1/T\n",
    "beta = 50\n",
    "mu  = 0\n",
    "err = 1e-6\n",
    "#T = 0.001\n",
    "T = 1./beta"
   ]
  },
  {
   "cell_type": "code",
   "execution_count": 3,
   "metadata": {},
   "outputs": [
    {
     "name": "stdout",
     "output_type": "stream",
     "text": [
      "iter =  8  , diff =  5.574694056720741e-07\n"
     ]
    }
   ],
   "source": [
    "Gtau = np.ones(Nbig)\n",
    "#Gtau = GconfTimeFinite(4,Jot,beta,Nbig)\n",
    "iter = 0\n",
    "diff = 1\n",
    "x = 0.5\n",
    "#narr = np.arange(Nbig)\n",
    "#omega = (2 * np.arange(-Nbig // 2, Nbig // 2, 1) + 1) * np.pi * T\n",
    "omega = (2 * np.arange(-Nbig // 2, Nbig // 2, 1) + 1) * np.pi / beta\n",
    "\n",
    "while(diff>err):\n",
    "    iter+=1\n",
    "    diffold = diff\n",
    "    Goldtau = Gtau \n",
    "    Goldomega = Time2Freq(Goldtau,Nbig,beta)\n",
    "    Sigmatau = (Jot**2) * (Gtau**3)\n",
    "    Sigmaomega = Time2Freq(Sigmatau,Nbig,beta)\n",
    "    Gomega = x/(-1j*omega - Sigmaomega) + (1-x)*Goldomega\n",
    "    Gtau = Freq2Time(Gomega,Nbig,beta)\n",
    "    diff = (1/Nbig) * np. sqrt(np.sum((np.abs(Gtau-Goldtau))**2))\n",
    "    if diff>diffold:\n",
    "        x/=2\n",
    "    \n",
    "print(\"iter = \",iter,\" , diff = \", diff)\n",
    "    \n",
    "    "
   ]
  },
  {
   "cell_type": "code",
   "execution_count": 4,
   "metadata": {},
   "outputs": [
    {
     "data": {
      "image/png": "[encoded data removed]",
      "text/plain": [
       "<Figure size 432x288 with 1 Axes>"
      ]
     },
     "metadata": {
      "needs_background": "light"
     },
     "output_type": "display_data"
    }
   ],
   "source": [
    "#val = 45000\n",
    "val = 1\n",
    "#rcParams['text.usetex'] = False\n",
    "#plt.rcParams.update({\"text.usetex\": False,})\n",
    "#fig, ax = plt.plot(np.real(Gtau[val:-val]),'r',GconfTimeFinite(4,Jot,beta,Nbig)[val:-val],'-.')\n",
    "ax = plt.plot(np.real(Gtau[val:-val]),'r')\n",
    "plt.xlim([0,Nbig])\n",
    "plt.ylim([0,0.6])\n",
    "plt.title(\"G(tau) at beta J = 50 - compare with MaldacenaComments Fig15 right\")\n",
    "plt.show()\n",
    "#plt.plot(np.imag(Gomega))\n",
    "#plt.show\n",
    "#plt.plot(GconfTimeFinite(4,Jot,beta,Nbig))\n",
    "#plt.savefig(\"GtauSanityCheck.png\")"
   ]
  },
  {
   "cell_type": "code",
   "execution_count": null,
   "metadata": {},
   "outputs": [],
   "source": []
  },
  {
   "cell_type": "code",
   "execution_count": null,
   "metadata": {},
   "outputs": [],
   "source": []
  }
 ],
 "metadata": {
  "kernelspec": {
   "display_name": "Python 3 (ipykernel)",
   "language": "python",
   "name": "python3"
  },
  "language_info": {
   "codemirror_mode": {
    "name": "ipython",
    "version": 3
   },
   "file_extension": ".py",
   "mimetype": "text/x-python",
   "name": "python",
   "nbconvert_exporter": "python",
   "pygments_lexer": "ipython3",
   "version": "3.11.4"
  }
 },
 "nbformat": 4,
 "nbformat_minor": 4
}
