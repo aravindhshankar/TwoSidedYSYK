{
 "cells": [
  {
   "cell_type": "code",
   "execution_count": 1,
   "id": "96950822-4921-4d30-b2a2-ce503934b585",
   "metadata": {},
   "outputs": [],
   "source": [
    "from SYK_fft import *\n",
    "import numpy as np\n",
    "import matplotlib.pyplot as plt\n",
    "from matplotlib import rcParams\n",
    "from ConformalAnalytical import *"
   ]
  },
  {
   "cell_type": "code",
   "execution_count": 2,
   "id": "bf22db0e-472c-4071-a525-1c51ff9cd516",
   "metadata": {},
   "outputs": [],
   "source": [
    "Nbig = int(1e5)\n",
    "#Nbig = 10\n",
    "err = 1e-6\n",
    "\n",
    "beta = 50\n",
    "mu = 0\n",
    "J = 1.0\n",
    "\n",
    "\n",
    "omega = (2 * np.arange(Nbig) - Nbig + 1) * np.pi/beta\n",
    "nu = (2 * np.arange(Nbig) - Nbig ) * np.pi/beta\n",
    "tau = (np.arange(Nbig) + 1./2) * beta/Nbig"
   ]
  },
  {
   "cell_type": "markdown",
   "id": "349817af-f938-46d2-8119-796c3f0822ca",
   "metadata": {},
   "source": [
    "$$G(i\\omega_n) = \\frac{1}{i\\omega_n + \\mu -\\Sigma(\\omega_n)}$$\n",
    "$$ \\Sigma(\\tau) = -J^2 G^2(\\tau)G(-\\tau)$$"
   ]
  },
  {
   "cell_type": "code",
   "execution_count": null,
   "id": "d88d567d-78c0-4900-b44a-c86642bafeb2",
   "metadata": {},
   "outputs": [],
   "source": [
    "Gtau = 0.5*np.ones(Nbig)\n",
    "\n",
    "itern = 0\n",
    "diff = 1.\n",
    "x = 0.5\n",
    "\n",
    "while(diff>err):\n",
    "#while(itern<200):\n",
    "    itern+=1\n",
    "    diffold = diff\n",
    "    \n",
    "    oldGtau = 1.0*Gtau\n",
    "    oldGomega = Time2FreqF(oldGtau,Nbig,beta)\n",
    "    \n",
    "    Sigmatau = J**2 * Gtau**2 * Gtau[::-1] #KMS G(-tau) = -G(beta-tau)\n",
    "    Sigmaomega = Time2FreqF(Sigmatau,Nbig,beta)\n",
    "    \n",
    "    Gomega = x*(1./(1j*omega + mu - Sigmaomega)) + (1-x)*oldGomega\n",
    "    Gtau = Freq2TimeF(Gomega,Nbig,beta)\n",
    "    \n",
    "    diff = (1.0/Nbig) * np. sqrt(np.sum((np.abs(Gtau-oldGtau))**2))\n",
    "    if diff>diffold:\n",
    "        x/=2\n",
    "\n",
    "\n",
    "    \n",
    "print(\"itern = \",itern,\" , diff = \", diff)\n",
    "    "
   ]
  },
  {
   "cell_type": "code",
   "execution_count": null,
   "id": "bb42e48a-bc68-42ec-b081-b27905947425",
   "metadata": {},
   "outputs": [],
   "source": [
    "plt.plot(tau/beta, np.abs(Gtau), 'r', label = 'numerics Gtau')\n",
    "#plt.plot(tau/beta, np.abs(Gconftau), 'b--', label = 'analytical Gtau' )\n",
    "plt.set_ylim(0,1)\n",
    "plt.set_xlabel(r'$\\tau/\\beta$',labelpad = 0)\n",
    "plt.legend()"
   ]
  }
 ],
 "metadata": {
  "kernelspec": {
   "display_name": "Python 3 (ipykernel)",
   "language": "python",
   "name": "python3"
  },
  "language_info": {
   "codemirror_mode": {
    "name": "ipython",
    "version": 3
   },
   "file_extension": ".py",
   "mimetype": "text/x-python",
   "name": "python",
   "nbconvert_exporter": "python",
   "pygments_lexer": "ipython3",
   "version": "3.10.9"
  }
 },
 "nbformat": 4,
 "nbformat_minor": 5
}
